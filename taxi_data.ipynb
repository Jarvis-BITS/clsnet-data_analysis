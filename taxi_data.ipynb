{
 "cells": [
  {
   "cell_type": "code",
   "execution_count": 59,
   "metadata": {},
   "outputs": [],
   "source": [
    "import pandas as pd\n",
    "import numpy as np \n",
    "import matplotlib.pyplot as plt\n",
    "import seaborn as sns\n",
    "import datetime\n",
    "import warnings \n",
    "warnings.filterwarnings(\"ignore\")"
   ]
  },
  {
   "cell_type": "code",
   "execution_count": 60,
   "metadata": {},
   "outputs": [],
   "source": [
    "taxi_data = pd.read_csv('C:/Users/Javin/OneDrive/Desktop/lab-task/segmented_taxi_trajectory_1117.csv')"
   ]
  },
  {
   "cell_type": "markdown",
   "metadata": {},
   "source": [
    "### Assumptions:\n",
    "1. Gpsvalid = 0 means gps was not working properly hence the corresponding data for that index is faulty/erroneous\n",
    "2. engine_acc = 0 means engine was idle or not working thus data for that index is erroneous\n",
    "3. heading gives current direction pointing away from North(0,360) in clockwise manner\n",
    "4. (variable)_x gives info about starting pt of taxi and (variable)_y gives info about ending pt \n",
    "5. speed = 0 just means car is stopped during that sampling time so is not considered as erroneous "
   ]
  },
  {
   "cell_type": "code",
   "execution_count": 61,
   "metadata": {},
   "outputs": [],
   "source": [
    "taxi_data = taxi_data[taxi_data['gpsvalid_x'] == 1]\n",
    "taxi_data = taxi_data[taxi_data['gpsvalid_y'] == 1]\n",
    "taxi_data = taxi_data[taxi_data['engine_acc_x'] == 1]\n",
    "taxi_data = taxi_data[taxi_data['engine_acc_y'] == 1]"
   ]
  },
  {
   "cell_type": "code",
   "execution_count": 62,
   "metadata": {},
   "outputs": [],
   "source": [
    "taxi_data['date_time_x'] = pd.to_datetime(taxi_data['date_time_x'], infer_datetime_format=True)\n",
    "taxi_data['date_time_y'] = pd.to_datetime(taxi_data['date_time_y'], infer_datetime_format=True)"
   ]
  },
  {
   "cell_type": "markdown",
   "metadata": {},
   "source": [
    "Checked all the columns were having same value in all rows without any erroneous data before dropping them for easier table lookup "
   ]
  },
  {
   "cell_type": "code",
   "execution_count": 63,
   "metadata": {},
   "outputs": [],
   "source": [
    "taxi_data = taxi_data.drop(['geometry_x'], axis=1) # redundant gps loc\n",
    "taxi_data = taxi_data.drop(['geometry_y'], axis=1) # redundant gps loc\n",
    "taxi_data = taxi_data.drop(['engine_acc_x'], axis=1) # always 1\n",
    "taxi_data = taxi_data.drop(['engine_acc_y'], axis=1) # always 1\n",
    "taxi_data = taxi_data.drop(['gpsvalid_x'], axis=1) # always 1\n",
    "taxi_data = taxi_data.drop(['gpsvalid_y'], axis=1) # always 1\n",
    "taxi_data = taxi_data.drop(['trip_point_x'], axis=1) # always starts\n",
    "taxi_data = taxi_data.drop(['trip_point_y'], axis=1) # always ends\n",
    "taxi_data = taxi_data.drop(['for_hire_light_x'], axis=1) # always 0\n",
    "taxi_data = taxi_data.drop(['for_hire_light_y'], axis=1) # always 1"
   ]
  },
  {
   "cell_type": "code",
   "execution_count": 64,
   "metadata": {},
   "outputs": [
    {
     "data": {
      "text/html": [
       "<div>\n",
       "<style scoped>\n",
       "    .dataframe tbody tr th:only-of-type {\n",
       "        vertical-align: middle;\n",
       "    }\n",
       "\n",
       "    .dataframe tbody tr th {\n",
       "        vertical-align: top;\n",
       "    }\n",
       "\n",
       "    .dataframe thead th {\n",
       "        text-align: right;\n",
       "    }\n",
       "</style>\n",
       "<table border=\"1\" class=\"dataframe\">\n",
       "  <thead>\n",
       "    <tr style=\"text-align: right;\">\n",
       "      <th></th>\n",
       "      <th>VehicleID_x</th>\n",
       "      <th>lat_x</th>\n",
       "      <th>lon_x</th>\n",
       "      <th>date_time_x</th>\n",
       "      <th>speed_x</th>\n",
       "      <th>heading_x</th>\n",
       "      <th>trajectory_id</th>\n",
       "      <th>VehicleID_y</th>\n",
       "      <th>lat_y</th>\n",
       "      <th>lon_y</th>\n",
       "      <th>date_time_y</th>\n",
       "      <th>speed_y</th>\n",
       "      <th>heading_y</th>\n",
       "    </tr>\n",
       "  </thead>\n",
       "  <tbody>\n",
       "    <tr>\n",
       "      <th>0</th>\n",
       "      <td>++DSqYQ5x328LHUqejEnMt1Ari0</td>\n",
       "      <td>13.64769</td>\n",
       "      <td>100.78991</td>\n",
       "      <td>2019-04-01 12:04:05</td>\n",
       "      <td>3</td>\n",
       "      <td>177</td>\n",
       "      <td>++DSqYQ5x328LHUqejEnMt1Ari0_trip_20190401120405</td>\n",
       "      <td>++DSqYQ5x328LHUqejEnMt1Ari0</td>\n",
       "      <td>13.65319</td>\n",
       "      <td>100.78381</td>\n",
       "      <td>2019-04-01 12:10:05</td>\n",
       "      <td>26</td>\n",
       "      <td>141</td>\n",
       "    </tr>\n",
       "    <tr>\n",
       "      <th>1</th>\n",
       "      <td>++DSqYQ5x328LHUqejEnMt1Ari0</td>\n",
       "      <td>13.64767</td>\n",
       "      <td>100.67939</td>\n",
       "      <td>2019-04-01 12:37:05</td>\n",
       "      <td>5</td>\n",
       "      <td>189</td>\n",
       "      <td>++DSqYQ5x328LHUqejEnMt1Ari0_trip_20190401123705</td>\n",
       "      <td>++DSqYQ5x328LHUqejEnMt1Ari0</td>\n",
       "      <td>13.67083</td>\n",
       "      <td>100.67389</td>\n",
       "      <td>2019-04-01 13:02:05</td>\n",
       "      <td>10</td>\n",
       "      <td>289</td>\n",
       "    </tr>\n",
       "    <tr>\n",
       "      <th>2</th>\n",
       "      <td>++DSqYQ5x328LHUqejEnMt1Ari0</td>\n",
       "      <td>13.65371</td>\n",
       "      <td>100.67874</td>\n",
       "      <td>2019-04-01 13:17:05</td>\n",
       "      <td>0</td>\n",
       "      <td>184</td>\n",
       "      <td>++DSqYQ5x328LHUqejEnMt1Ari0_trip_20190401131705</td>\n",
       "      <td>++DSqYQ5x328LHUqejEnMt1Ari0</td>\n",
       "      <td>13.69173</td>\n",
       "      <td>100.67092</td>\n",
       "      <td>2019-04-01 13:39:05</td>\n",
       "      <td>40</td>\n",
       "      <td>207</td>\n",
       "    </tr>\n",
       "    <tr>\n",
       "      <th>3</th>\n",
       "      <td>++DSqYQ5x328LHUqejEnMt1Ari0</td>\n",
       "      <td>13.68211</td>\n",
       "      <td>100.61034</td>\n",
       "      <td>2019-04-01 14:01:05</td>\n",
       "      <td>16</td>\n",
       "      <td>9</td>\n",
       "      <td>++DSqYQ5x328LHUqejEnMt1Ari0_trip_20190401140105</td>\n",
       "      <td>++DSqYQ5x328LHUqejEnMt1Ari0</td>\n",
       "      <td>13.71405</td>\n",
       "      <td>100.59269</td>\n",
       "      <td>2019-04-01 14:16:05</td>\n",
       "      <td>7</td>\n",
       "      <td>309</td>\n",
       "    </tr>\n",
       "    <tr>\n",
       "      <th>4</th>\n",
       "      <td>++DSqYQ5x328LHUqejEnMt1Ari0</td>\n",
       "      <td>13.74752</td>\n",
       "      <td>100.57965</td>\n",
       "      <td>2019-04-01 14:43:05</td>\n",
       "      <td>0</td>\n",
       "      <td>117</td>\n",
       "      <td>++DSqYQ5x328LHUqejEnMt1Ari0_trip_20190401144305</td>\n",
       "      <td>++DSqYQ5x328LHUqejEnMt1Ari0</td>\n",
       "      <td>13.74763</td>\n",
       "      <td>100.59861</td>\n",
       "      <td>2019-04-01 14:58:05</td>\n",
       "      <td>0</td>\n",
       "      <td>201</td>\n",
       "    </tr>\n",
       "  </tbody>\n",
       "</table>\n",
       "</div>"
      ],
      "text/plain": [
       "                   VehicleID_x     lat_x      lon_x         date_time_x  \\\n",
       "0  ++DSqYQ5x328LHUqejEnMt1Ari0  13.64769  100.78991 2019-04-01 12:04:05   \n",
       "1  ++DSqYQ5x328LHUqejEnMt1Ari0  13.64767  100.67939 2019-04-01 12:37:05   \n",
       "2  ++DSqYQ5x328LHUqejEnMt1Ari0  13.65371  100.67874 2019-04-01 13:17:05   \n",
       "3  ++DSqYQ5x328LHUqejEnMt1Ari0  13.68211  100.61034 2019-04-01 14:01:05   \n",
       "4  ++DSqYQ5x328LHUqejEnMt1Ari0  13.74752  100.57965 2019-04-01 14:43:05   \n",
       "\n",
       "   speed_x  heading_x                                    trajectory_id  \\\n",
       "0        3        177  ++DSqYQ5x328LHUqejEnMt1Ari0_trip_20190401120405   \n",
       "1        5        189  ++DSqYQ5x328LHUqejEnMt1Ari0_trip_20190401123705   \n",
       "2        0        184  ++DSqYQ5x328LHUqejEnMt1Ari0_trip_20190401131705   \n",
       "3       16          9  ++DSqYQ5x328LHUqejEnMt1Ari0_trip_20190401140105   \n",
       "4        0        117  ++DSqYQ5x328LHUqejEnMt1Ari0_trip_20190401144305   \n",
       "\n",
       "                   VehicleID_y     lat_y      lon_y         date_time_y  \\\n",
       "0  ++DSqYQ5x328LHUqejEnMt1Ari0  13.65319  100.78381 2019-04-01 12:10:05   \n",
       "1  ++DSqYQ5x328LHUqejEnMt1Ari0  13.67083  100.67389 2019-04-01 13:02:05   \n",
       "2  ++DSqYQ5x328LHUqejEnMt1Ari0  13.69173  100.67092 2019-04-01 13:39:05   \n",
       "3  ++DSqYQ5x328LHUqejEnMt1Ari0  13.71405  100.59269 2019-04-01 14:16:05   \n",
       "4  ++DSqYQ5x328LHUqejEnMt1Ari0  13.74763  100.59861 2019-04-01 14:58:05   \n",
       "\n",
       "   speed_y  heading_y  \n",
       "0       26        141  \n",
       "1       10        289  \n",
       "2       40        207  \n",
       "3        7        309  \n",
       "4        0        201  "
      ]
     },
     "execution_count": 64,
     "metadata": {},
     "output_type": "execute_result"
    }
   ],
   "source": [
    "taxi_data.head()"
   ]
  },
  {
   "cell_type": "code",
   "execution_count": 65,
   "metadata": {},
   "outputs": [
    {
     "data": {
      "text/html": [
       "<div>\n",
       "<style scoped>\n",
       "    .dataframe tbody tr th:only-of-type {\n",
       "        vertical-align: middle;\n",
       "    }\n",
       "\n",
       "    .dataframe tbody tr th {\n",
       "        vertical-align: top;\n",
       "    }\n",
       "\n",
       "    .dataframe thead th {\n",
       "        text-align: right;\n",
       "    }\n",
       "</style>\n",
       "<table border=\"1\" class=\"dataframe\">\n",
       "  <thead>\n",
       "    <tr style=\"text-align: right;\">\n",
       "      <th></th>\n",
       "      <th>VehicleID_x</th>\n",
       "      <th>lat_x</th>\n",
       "      <th>lon_x</th>\n",
       "      <th>date_time_x</th>\n",
       "      <th>speed_x</th>\n",
       "      <th>heading_x</th>\n",
       "      <th>trajectory_id</th>\n",
       "      <th>VehicleID_y</th>\n",
       "      <th>lat_y</th>\n",
       "      <th>lon_y</th>\n",
       "      <th>date_time_y</th>\n",
       "      <th>speed_y</th>\n",
       "      <th>heading_y</th>\n",
       "    </tr>\n",
       "  </thead>\n",
       "  <tbody>\n",
       "    <tr>\n",
       "      <th>239757</th>\n",
       "      <td>//wVqd1wQ3ygnNSpDFZ1PV8PxrE</td>\n",
       "      <td>13.79392</td>\n",
       "      <td>100.71340</td>\n",
       "      <td>1963-07-17 12:43:27</td>\n",
       "      <td>17</td>\n",
       "      <td>327</td>\n",
       "      <td>//wVqd1wQ3ygnNSpDFZ1PV8PxrE_trip_19630717124327</td>\n",
       "      <td>//wVqd1wQ3ygnNSpDFZ1PV8PxrE</td>\n",
       "      <td>13.77354</td>\n",
       "      <td>100.66722</td>\n",
       "      <td>1963-07-17 13:13:15</td>\n",
       "      <td>24</td>\n",
       "      <td>258</td>\n",
       "    </tr>\n",
       "    <tr>\n",
       "      <th>239758</th>\n",
       "      <td>//wVqd1wQ3ygnNSpDFZ1PV8PxrE</td>\n",
       "      <td>13.74967</td>\n",
       "      <td>100.64914</td>\n",
       "      <td>1963-07-17 13:51:15</td>\n",
       "      <td>59</td>\n",
       "      <td>301</td>\n",
       "      <td>//wVqd1wQ3ygnNSpDFZ1PV8PxrE_trip_19630717135115</td>\n",
       "      <td>//wVqd1wQ3ygnNSpDFZ1PV8PxrE</td>\n",
       "      <td>13.76105</td>\n",
       "      <td>100.63039</td>\n",
       "      <td>1963-07-17 14:08:15</td>\n",
       "      <td>37</td>\n",
       "      <td>85</td>\n",
       "    </tr>\n",
       "    <tr>\n",
       "      <th>239759</th>\n",
       "      <td>//wVqd1wQ3ygnNSpDFZ1PV8PxrE</td>\n",
       "      <td>13.75243</td>\n",
       "      <td>100.63416</td>\n",
       "      <td>1963-07-17 15:22:17</td>\n",
       "      <td>35</td>\n",
       "      <td>102</td>\n",
       "      <td>//wVqd1wQ3ygnNSpDFZ1PV8PxrE_trip_19630717152217</td>\n",
       "      <td>//wVqd1wQ3ygnNSpDFZ1PV8PxrE</td>\n",
       "      <td>13.76639</td>\n",
       "      <td>100.64610</td>\n",
       "      <td>1963-07-17 15:41:17</td>\n",
       "      <td>26</td>\n",
       "      <td>87</td>\n",
       "    </tr>\n",
       "    <tr>\n",
       "      <th>239760</th>\n",
       "      <td>//wVqd1wQ3ygnNSpDFZ1PV8PxrE</td>\n",
       "      <td>13.77795</td>\n",
       "      <td>100.65685</td>\n",
       "      <td>1963-07-17 15:48:17</td>\n",
       "      <td>0</td>\n",
       "      <td>7</td>\n",
       "      <td>//wVqd1wQ3ygnNSpDFZ1PV8PxrE_trip_19630717154817</td>\n",
       "      <td>//wVqd1wQ3ygnNSpDFZ1PV8PxrE</td>\n",
       "      <td>13.76777</td>\n",
       "      <td>100.65056</td>\n",
       "      <td>1963-07-17 16:07:43</td>\n",
       "      <td>37</td>\n",
       "      <td>226</td>\n",
       "    </tr>\n",
       "    <tr>\n",
       "      <th>239761</th>\n",
       "      <td>//wVqd1wQ3ygnNSpDFZ1PV8PxrE</td>\n",
       "      <td>13.76953</td>\n",
       "      <td>100.58494</td>\n",
       "      <td>1963-07-17 16:46:43</td>\n",
       "      <td>8</td>\n",
       "      <td>177</td>\n",
       "      <td>//wVqd1wQ3ygnNSpDFZ1PV8PxrE_trip_19630717164643</td>\n",
       "      <td>//wVqd1wQ3ygnNSpDFZ1PV8PxrE</td>\n",
       "      <td>13.77092</td>\n",
       "      <td>100.60772</td>\n",
       "      <td>1963-07-17 16:56:43</td>\n",
       "      <td>12</td>\n",
       "      <td>22</td>\n",
       "    </tr>\n",
       "  </tbody>\n",
       "</table>\n",
       "</div>"
      ],
      "text/plain": [
       "                        VehicleID_x     lat_x      lon_x         date_time_x  \\\n",
       "239757  //wVqd1wQ3ygnNSpDFZ1PV8PxrE  13.79392  100.71340 1963-07-17 12:43:27   \n",
       "239758  //wVqd1wQ3ygnNSpDFZ1PV8PxrE  13.74967  100.64914 1963-07-17 13:51:15   \n",
       "239759  //wVqd1wQ3ygnNSpDFZ1PV8PxrE  13.75243  100.63416 1963-07-17 15:22:17   \n",
       "239760  //wVqd1wQ3ygnNSpDFZ1PV8PxrE  13.77795  100.65685 1963-07-17 15:48:17   \n",
       "239761  //wVqd1wQ3ygnNSpDFZ1PV8PxrE  13.76953  100.58494 1963-07-17 16:46:43   \n",
       "\n",
       "        speed_x  heading_x                                    trajectory_id  \\\n",
       "239757       17        327  //wVqd1wQ3ygnNSpDFZ1PV8PxrE_trip_19630717124327   \n",
       "239758       59        301  //wVqd1wQ3ygnNSpDFZ1PV8PxrE_trip_19630717135115   \n",
       "239759       35        102  //wVqd1wQ3ygnNSpDFZ1PV8PxrE_trip_19630717152217   \n",
       "239760        0          7  //wVqd1wQ3ygnNSpDFZ1PV8PxrE_trip_19630717154817   \n",
       "239761        8        177  //wVqd1wQ3ygnNSpDFZ1PV8PxrE_trip_19630717164643   \n",
       "\n",
       "                        VehicleID_y     lat_y      lon_y         date_time_y  \\\n",
       "239757  //wVqd1wQ3ygnNSpDFZ1PV8PxrE  13.77354  100.66722 1963-07-17 13:13:15   \n",
       "239758  //wVqd1wQ3ygnNSpDFZ1PV8PxrE  13.76105  100.63039 1963-07-17 14:08:15   \n",
       "239759  //wVqd1wQ3ygnNSpDFZ1PV8PxrE  13.76639  100.64610 1963-07-17 15:41:17   \n",
       "239760  //wVqd1wQ3ygnNSpDFZ1PV8PxrE  13.76777  100.65056 1963-07-17 16:07:43   \n",
       "239761  //wVqd1wQ3ygnNSpDFZ1PV8PxrE  13.77092  100.60772 1963-07-17 16:56:43   \n",
       "\n",
       "        speed_y  heading_y  \n",
       "239757       24        258  \n",
       "239758       37         85  \n",
       "239759       26         87  \n",
       "239760       37        226  \n",
       "239761       12         22  "
      ]
     },
     "execution_count": 65,
     "metadata": {},
     "output_type": "execute_result"
    }
   ],
   "source": [
    "taxi_data.tail()"
   ]
  },
  {
   "cell_type": "code",
   "execution_count": 66,
   "metadata": {},
   "outputs": [
    {
     "data": {
      "text/plain": [
       "(209507, 13)"
      ]
     },
     "execution_count": 66,
     "metadata": {},
     "output_type": "execute_result"
    }
   ],
   "source": [
    "taxi_data.shape"
   ]
  },
  {
   "cell_type": "code",
   "execution_count": 67,
   "metadata": {},
   "outputs": [
    {
     "data": {
      "text/plain": [
       "Index(['VehicleID_x', 'lat_x', 'lon_x', 'date_time_x', 'speed_x', 'heading_x',\n",
       "       'trajectory_id', 'VehicleID_y', 'lat_y', 'lon_y', 'date_time_y',\n",
       "       'speed_y', 'heading_y'],\n",
       "      dtype='object')"
      ]
     },
     "execution_count": 67,
     "metadata": {},
     "output_type": "execute_result"
    }
   ],
   "source": [
    "taxi_data.columns"
   ]
  },
  {
   "cell_type": "code",
   "execution_count": 68,
   "metadata": {},
   "outputs": [
    {
     "data": {
      "text/html": [
       "<div>\n",
       "<style scoped>\n",
       "    .dataframe tbody tr th:only-of-type {\n",
       "        vertical-align: middle;\n",
       "    }\n",
       "\n",
       "    .dataframe tbody tr th {\n",
       "        vertical-align: top;\n",
       "    }\n",
       "\n",
       "    .dataframe thead th {\n",
       "        text-align: right;\n",
       "    }\n",
       "</style>\n",
       "<table border=\"1\" class=\"dataframe\">\n",
       "  <thead>\n",
       "    <tr style=\"text-align: right;\">\n",
       "      <th></th>\n",
       "      <th>lat_x</th>\n",
       "      <th>lon_x</th>\n",
       "      <th>speed_x</th>\n",
       "      <th>heading_x</th>\n",
       "      <th>lat_y</th>\n",
       "      <th>lon_y</th>\n",
       "      <th>speed_y</th>\n",
       "      <th>heading_y</th>\n",
       "    </tr>\n",
       "  </thead>\n",
       "  <tbody>\n",
       "    <tr>\n",
       "      <th>count</th>\n",
       "      <td>209507.000000</td>\n",
       "      <td>209507.000000</td>\n",
       "      <td>209507.000000</td>\n",
       "      <td>209507.000000</td>\n",
       "      <td>209507.000000</td>\n",
       "      <td>209507.000000</td>\n",
       "      <td>209507.00000</td>\n",
       "      <td>209507.000000</td>\n",
       "    </tr>\n",
       "    <tr>\n",
       "      <th>mean</th>\n",
       "      <td>13.737800</td>\n",
       "      <td>100.577239</td>\n",
       "      <td>13.523801</td>\n",
       "      <td>177.466276</td>\n",
       "      <td>13.738122</td>\n",
       "      <td>100.575027</td>\n",
       "      <td>21.16031</td>\n",
       "      <td>176.381620</td>\n",
       "    </tr>\n",
       "    <tr>\n",
       "      <th>std</th>\n",
       "      <td>0.080243</td>\n",
       "      <td>0.096693</td>\n",
       "      <td>16.933879</td>\n",
       "      <td>104.192466</td>\n",
       "      <td>0.077275</td>\n",
       "      <td>0.092191</td>\n",
       "      <td>21.56059</td>\n",
       "      <td>104.501109</td>\n",
       "    </tr>\n",
       "    <tr>\n",
       "      <th>min</th>\n",
       "      <td>13.486930</td>\n",
       "      <td>100.330530</td>\n",
       "      <td>0.000000</td>\n",
       "      <td>0.000000</td>\n",
       "      <td>13.492040</td>\n",
       "      <td>100.330460</td>\n",
       "      <td>0.00000</td>\n",
       "      <td>0.000000</td>\n",
       "    </tr>\n",
       "    <tr>\n",
       "      <th>25%</th>\n",
       "      <td>13.689800</td>\n",
       "      <td>100.512690</td>\n",
       "      <td>0.000000</td>\n",
       "      <td>90.000000</td>\n",
       "      <td>13.691580</td>\n",
       "      <td>100.513045</td>\n",
       "      <td>0.00000</td>\n",
       "      <td>90.000000</td>\n",
       "    </tr>\n",
       "    <tr>\n",
       "      <th>50%</th>\n",
       "      <td>13.740230</td>\n",
       "      <td>100.570390</td>\n",
       "      <td>7.000000</td>\n",
       "      <td>183.000000</td>\n",
       "      <td>13.740480</td>\n",
       "      <td>100.567210</td>\n",
       "      <td>16.00000</td>\n",
       "      <td>183.000000</td>\n",
       "    </tr>\n",
       "    <tr>\n",
       "      <th>75%</th>\n",
       "      <td>13.788460</td>\n",
       "      <td>100.635990</td>\n",
       "      <td>22.000000</td>\n",
       "      <td>270.000000</td>\n",
       "      <td>13.787010</td>\n",
       "      <td>100.631405</td>\n",
       "      <td>36.00000</td>\n",
       "      <td>270.000000</td>\n",
       "    </tr>\n",
       "    <tr>\n",
       "      <th>max</th>\n",
       "      <td>13.955110</td>\n",
       "      <td>100.945650</td>\n",
       "      <td>132.000000</td>\n",
       "      <td>360.000000</td>\n",
       "      <td>13.952360</td>\n",
       "      <td>100.931370</td>\n",
       "      <td>160.00000</td>\n",
       "      <td>360.000000</td>\n",
       "    </tr>\n",
       "  </tbody>\n",
       "</table>\n",
       "</div>"
      ],
      "text/plain": [
       "               lat_x          lon_x        speed_x      heading_x  \\\n",
       "count  209507.000000  209507.000000  209507.000000  209507.000000   \n",
       "mean       13.737800     100.577239      13.523801     177.466276   \n",
       "std         0.080243       0.096693      16.933879     104.192466   \n",
       "min        13.486930     100.330530       0.000000       0.000000   \n",
       "25%        13.689800     100.512690       0.000000      90.000000   \n",
       "50%        13.740230     100.570390       7.000000     183.000000   \n",
       "75%        13.788460     100.635990      22.000000     270.000000   \n",
       "max        13.955110     100.945650     132.000000     360.000000   \n",
       "\n",
       "               lat_y          lon_y       speed_y      heading_y  \n",
       "count  209507.000000  209507.000000  209507.00000  209507.000000  \n",
       "mean       13.738122     100.575027      21.16031     176.381620  \n",
       "std         0.077275       0.092191      21.56059     104.501109  \n",
       "min        13.492040     100.330460       0.00000       0.000000  \n",
       "25%        13.691580     100.513045       0.00000      90.000000  \n",
       "50%        13.740480     100.567210      16.00000     183.000000  \n",
       "75%        13.787010     100.631405      36.00000     270.000000  \n",
       "max        13.952360     100.931370     160.00000     360.000000  "
      ]
     },
     "execution_count": 68,
     "metadata": {},
     "output_type": "execute_result"
    }
   ],
   "source": [
    "taxi_data.describe()"
   ]
  },
  {
   "cell_type": "code",
   "execution_count": 69,
   "metadata": {},
   "outputs": [
    {
     "data": {
      "text/plain": [
       "VehicleID_x      0\n",
       "lat_x            0\n",
       "lon_x            0\n",
       "date_time_x      0\n",
       "speed_x          0\n",
       "heading_x        0\n",
       "trajectory_id    0\n",
       "VehicleID_y      0\n",
       "lat_y            0\n",
       "lon_y            0\n",
       "date_time_y      0\n",
       "speed_y          0\n",
       "heading_y        0\n",
       "dtype: int64"
      ]
     },
     "execution_count": 69,
     "metadata": {},
     "output_type": "execute_result"
    }
   ],
   "source": [
    "taxi_data.isnull().sum()"
   ]
  },
  {
   "cell_type": "code",
   "execution_count": 70,
   "metadata": {},
   "outputs": [
    {
     "data": {
      "text/plain": [
       "VehicleID_x        3785\n",
       "lat_x             37082\n",
       "lon_x             43025\n",
       "date_time_x      170062\n",
       "speed_x             115\n",
       "heading_x           361\n",
       "trajectory_id    209507\n",
       "VehicleID_y        3785\n",
       "lat_y             36174\n",
       "lon_y             41143\n",
       "date_time_y      170729\n",
       "speed_y             127\n",
       "heading_y           361\n",
       "dtype: int64"
      ]
     },
     "execution_count": 70,
     "metadata": {},
     "output_type": "execute_result"
    }
   ],
   "source": [
    "taxi_data.nunique()"
   ]
  },
  {
   "cell_type": "code",
   "execution_count": 71,
   "metadata": {},
   "outputs": [
    {
     "data": {
      "image/png": "[encoded data removed]",
      "text/plain": [
       "<Figure size 432x288 with 1 Axes>"
      ]
     },
     "metadata": {
      "needs_background": "light"
     },
     "output_type": "display_data"
    }
   ],
   "source": [
    "plt.scatter(x=taxi_data['lat_x'], y=taxi_data['lon_x'], color='green')\n",
    "plt.scatter(x=taxi_data['lat_y'], y=taxi_data['lon_y'], color='pink', alpha=0.2)\n",
    "plt.show()"
   ]
  },
  {
   "cell_type": "code",
   "execution_count": 111,
   "metadata": {},
   "outputs": [],
   "source": [
    "taxi_data['hour_x'] = pd.to_datetime(taxi_data['date_time_x']).dt.hour\n",
    "taxi_data['hour_y'] = pd.to_datetime(taxi_data['date_time_y']).dt.hour\n",
    "taxi_data['day_x'] = pd.to_datetime(taxi_data['date_time_x']).dt.day_name()\n",
    "taxi_data['day_y'] = pd.to_datetime(taxi_data['date_time_y']).dt.day_name()"
   ]
  },
  {
   "cell_type": "code",
   "execution_count": 119,
   "metadata": {},
   "outputs": [
    {
     "data": {
      "image/png": "[encoded data removed]",
      "text/plain": [
       "<Figure size 432x288 with 1 Axes>"
      ]
     },
     "metadata": {
      "needs_background": "light"
     },
     "output_type": "display_data"
    },
    {
     "data": {
      "text/plain": [
       "<Figure size 10800x10800 with 0 Axes>"
      ]
     },
     "metadata": {},
     "output_type": "display_data"
    }
   ],
   "source": [
    "sns.countplot('hour_x', hue='day_x', data=taxi_data, palette='hls')\n",
    "plt.xticks(rotation = 90)\n",
    "plt.figure(figsize=(150,150))\n",
    "plt.show()"
   ]
  },
  {
   "cell_type": "markdown",
   "metadata": {},
   "source": [
    "Weekday Rush hour starts from 8am to 8pm with increased traffic on weekends from 4pm to 9pm"
   ]
  },
  {
   "cell_type": "markdown",
   "metadata": {},
   "source": [
    "### K-means clustering of pick-up points"
   ]
  },
  {
   "cell_type": "code",
   "execution_count": 81,
   "metadata": {},
   "outputs": [
    {
     "data": {
      "text/html": [
       "<div>\n",
       "<style scoped>\n",
       "    .dataframe tbody tr th:only-of-type {\n",
       "        vertical-align: middle;\n",
       "    }\n",
       "\n",
       "    .dataframe tbody tr th {\n",
       "        vertical-align: top;\n",
       "    }\n",
       "\n",
       "    .dataframe thead th {\n",
       "        text-align: right;\n",
       "    }\n",
       "</style>\n",
       "<table border=\"1\" class=\"dataframe\">\n",
       "  <thead>\n",
       "    <tr style=\"text-align: right;\">\n",
       "      <th></th>\n",
       "      <th>lat_x</th>\n",
       "      <th>lon_x</th>\n",
       "    </tr>\n",
       "  </thead>\n",
       "  <tbody>\n",
       "    <tr>\n",
       "      <th>0</th>\n",
       "      <td>13.64769</td>\n",
       "      <td>100.78991</td>\n",
       "    </tr>\n",
       "    <tr>\n",
       "      <th>1</th>\n",
       "      <td>13.64767</td>\n",
       "      <td>100.67939</td>\n",
       "    </tr>\n",
       "    <tr>\n",
       "      <th>2</th>\n",
       "      <td>13.65371</td>\n",
       "      <td>100.67874</td>\n",
       "    </tr>\n",
       "    <tr>\n",
       "      <th>3</th>\n",
       "      <td>13.68211</td>\n",
       "      <td>100.61034</td>\n",
       "    </tr>\n",
       "    <tr>\n",
       "      <th>4</th>\n",
       "      <td>13.74752</td>\n",
       "      <td>100.57965</td>\n",
       "    </tr>\n",
       "    <tr>\n",
       "      <th>...</th>\n",
       "      <td>...</td>\n",
       "      <td>...</td>\n",
       "    </tr>\n",
       "    <tr>\n",
       "      <th>239757</th>\n",
       "      <td>13.79392</td>\n",
       "      <td>100.71340</td>\n",
       "    </tr>\n",
       "    <tr>\n",
       "      <th>239758</th>\n",
       "      <td>13.74967</td>\n",
       "      <td>100.64914</td>\n",
       "    </tr>\n",
       "    <tr>\n",
       "      <th>239759</th>\n",
       "      <td>13.75243</td>\n",
       "      <td>100.63416</td>\n",
       "    </tr>\n",
       "    <tr>\n",
       "      <th>239760</th>\n",
       "      <td>13.77795</td>\n",
       "      <td>100.65685</td>\n",
       "    </tr>\n",
       "    <tr>\n",
       "      <th>239761</th>\n",
       "      <td>13.76953</td>\n",
       "      <td>100.58494</td>\n",
       "    </tr>\n",
       "  </tbody>\n",
       "</table>\n",
       "<p>209507 rows × 2 columns</p>\n",
       "</div>"
      ],
      "text/plain": [
       "           lat_x      lon_x\n",
       "0       13.64769  100.78991\n",
       "1       13.64767  100.67939\n",
       "2       13.65371  100.67874\n",
       "3       13.68211  100.61034\n",
       "4       13.74752  100.57965\n",
       "...          ...        ...\n",
       "239757  13.79392  100.71340\n",
       "239758  13.74967  100.64914\n",
       "239759  13.75243  100.63416\n",
       "239760  13.77795  100.65685\n",
       "239761  13.76953  100.58494\n",
       "\n",
       "[209507 rows x 2 columns]"
      ]
     },
     "execution_count": 81,
     "metadata": {},
     "output_type": "execute_result"
    }
   ],
   "source": [
    "taxi_data_pickup = taxi_data[taxi_data.columns[1:3]]\n",
    "taxi_data_pickup"
   ]
  },
  {
   "cell_type": "markdown",
   "metadata": {},
   "source": [
    "Elbow curve method is used to find optimal number of k_means cluster required for proper segregation"
   ]
  },
  {
   "cell_type": "code",
   "execution_count": 72,
   "metadata": {},
   "outputs": [
    {
     "data": {
      "image/png": "[encoded data removed]",
      "text/plain": [
       "<Figure size 432x288 with 1 Axes>"
      ]
     },
     "metadata": {
      "needs_background": "light"
     },
     "output_type": "display_data"
    }
   ],
   "source": [
    "from sklearn.cluster import KMeans \n",
    "K_clusters = range(1,60)\n",
    "kmeans = [KMeans(n_clusters=i) for i in K_clusters]\n",
    "Y_axis = taxi_data_pickup[['lat_x']]\n",
    "X_axis = taxi_data_pickup[['lon_x']]\n",
    "score = [kmeans[i].fit(Y_axis).score(Y_axis) for i in range(len(kmeans))]\n",
    "# Visualize\n",
    "plt.plot(K_clusters, score)\n",
    "plt.xlabel('Number of Clusters')\n",
    "plt.ylabel('Score')\n",
    "plt.title('Elbow Curve')\n",
    "plt.show()"
   ]
  },
  {
   "cell_type": "code",
   "execution_count": 99,
   "metadata": {},
   "outputs": [
    {
     "data": {
      "text/html": [
       "<div>\n",
       "<style scoped>\n",
       "    .dataframe tbody tr th:only-of-type {\n",
       "        vertical-align: middle;\n",
       "    }\n",
       "\n",
       "    .dataframe tbody tr th {\n",
       "        vertical-align: top;\n",
       "    }\n",
       "\n",
       "    .dataframe thead th {\n",
       "        text-align: right;\n",
       "    }\n",
       "</style>\n",
       "<table border=\"1\" class=\"dataframe\">\n",
       "  <thead>\n",
       "    <tr style=\"text-align: right;\">\n",
       "      <th></th>\n",
       "      <th>lat_x</th>\n",
       "      <th>lon_x</th>\n",
       "      <th>cluster_label</th>\n",
       "    </tr>\n",
       "  </thead>\n",
       "  <tbody>\n",
       "    <tr>\n",
       "      <th>0</th>\n",
       "      <td>13.64769</td>\n",
       "      <td>100.78991</td>\n",
       "      <td>8</td>\n",
       "    </tr>\n",
       "    <tr>\n",
       "      <th>1</th>\n",
       "      <td>13.64767</td>\n",
       "      <td>100.67939</td>\n",
       "      <td>2</td>\n",
       "    </tr>\n",
       "    <tr>\n",
       "      <th>2</th>\n",
       "      <td>13.65371</td>\n",
       "      <td>100.67874</td>\n",
       "      <td>2</td>\n",
       "    </tr>\n",
       "    <tr>\n",
       "      <th>3</th>\n",
       "      <td>13.68211</td>\n",
       "      <td>100.61034</td>\n",
       "      <td>2</td>\n",
       "    </tr>\n",
       "    <tr>\n",
       "      <th>4</th>\n",
       "      <td>13.74752</td>\n",
       "      <td>100.57965</td>\n",
       "      <td>1</td>\n",
       "    </tr>\n",
       "    <tr>\n",
       "      <th>5</th>\n",
       "      <td>13.87164</td>\n",
       "      <td>100.72170</td>\n",
       "      <td>6</td>\n",
       "    </tr>\n",
       "    <tr>\n",
       "      <th>6</th>\n",
       "      <td>13.89336</td>\n",
       "      <td>100.63122</td>\n",
       "      <td>6</td>\n",
       "    </tr>\n",
       "    <tr>\n",
       "      <th>7</th>\n",
       "      <td>13.89613</td>\n",
       "      <td>100.66283</td>\n",
       "      <td>6</td>\n",
       "    </tr>\n",
       "    <tr>\n",
       "      <th>9</th>\n",
       "      <td>13.69981</td>\n",
       "      <td>100.61654</td>\n",
       "      <td>1</td>\n",
       "    </tr>\n",
       "    <tr>\n",
       "      <th>10</th>\n",
       "      <td>13.73399</td>\n",
       "      <td>100.49075</td>\n",
       "      <td>4</td>\n",
       "    </tr>\n",
       "  </tbody>\n",
       "</table>\n",
       "</div>"
      ],
      "text/plain": [
       "       lat_x      lon_x  cluster_label\n",
       "0   13.64769  100.78991              8\n",
       "1   13.64767  100.67939              2\n",
       "2   13.65371  100.67874              2\n",
       "3   13.68211  100.61034              2\n",
       "4   13.74752  100.57965              1\n",
       "5   13.87164  100.72170              6\n",
       "6   13.89336  100.63122              6\n",
       "7   13.89613  100.66283              6\n",
       "9   13.69981  100.61654              1\n",
       "10  13.73399  100.49075              4"
      ]
     },
     "execution_count": 99,
     "metadata": {},
     "output_type": "execute_result"
    }
   ],
   "source": [
    "kmeans = KMeans(n_clusters = 9, init ='k-means++') #selecting 9 as after 9 delta in score for increasing cluter no is very small\n",
    "kmeans.fit(taxi_data_pickup[taxi_data_pickup.columns[0:2]]) # Compute k-means clustering.\n",
    "taxi_data_pickup['cluster_label'] = kmeans.fit_predict(taxi_data_pickup[taxi_data_pickup.columns[0:2]])\n",
    "centers_pickup = kmeans.cluster_centers_ # Coordinates of cluster centers.\n",
    "labels_pickup = kmeans.predict(taxi_data_pickup[taxi_data_pickup.columns[0:2]]) # Labels of each point\n",
    "taxi_data_pickup.head(10)"
   ]
  },
  {
   "cell_type": "markdown",
   "metadata": {},
   "source": [
    "(O/p of k-means cluster graph at end of notebook)"
   ]
  },
  {
   "cell_type": "markdown",
   "metadata": {},
   "source": [
    "### K-means clustering of drop points"
   ]
  },
  {
   "cell_type": "code",
   "execution_count": 90,
   "metadata": {},
   "outputs": [
    {
     "data": {
      "text/html": [
       "<div>\n",
       "<style scoped>\n",
       "    .dataframe tbody tr th:only-of-type {\n",
       "        vertical-align: middle;\n",
       "    }\n",
       "\n",
       "    .dataframe tbody tr th {\n",
       "        vertical-align: top;\n",
       "    }\n",
       "\n",
       "    .dataframe thead th {\n",
       "        text-align: right;\n",
       "    }\n",
       "</style>\n",
       "<table border=\"1\" class=\"dataframe\">\n",
       "  <thead>\n",
       "    <tr style=\"text-align: right;\">\n",
       "      <th></th>\n",
       "      <th>lat_y</th>\n",
       "      <th>lon_y</th>\n",
       "    </tr>\n",
       "  </thead>\n",
       "  <tbody>\n",
       "    <tr>\n",
       "      <th>0</th>\n",
       "      <td>13.65319</td>\n",
       "      <td>100.78381</td>\n",
       "    </tr>\n",
       "    <tr>\n",
       "      <th>1</th>\n",
       "      <td>13.67083</td>\n",
       "      <td>100.67389</td>\n",
       "    </tr>\n",
       "    <tr>\n",
       "      <th>2</th>\n",
       "      <td>13.69173</td>\n",
       "      <td>100.67092</td>\n",
       "    </tr>\n",
       "    <tr>\n",
       "      <th>3</th>\n",
       "      <td>13.71405</td>\n",
       "      <td>100.59269</td>\n",
       "    </tr>\n",
       "    <tr>\n",
       "      <th>4</th>\n",
       "      <td>13.74763</td>\n",
       "      <td>100.59861</td>\n",
       "    </tr>\n",
       "    <tr>\n",
       "      <th>...</th>\n",
       "      <td>...</td>\n",
       "      <td>...</td>\n",
       "    </tr>\n",
       "    <tr>\n",
       "      <th>239757</th>\n",
       "      <td>13.77354</td>\n",
       "      <td>100.66722</td>\n",
       "    </tr>\n",
       "    <tr>\n",
       "      <th>239758</th>\n",
       "      <td>13.76105</td>\n",
       "      <td>100.63039</td>\n",
       "    </tr>\n",
       "    <tr>\n",
       "      <th>239759</th>\n",
       "      <td>13.76639</td>\n",
       "      <td>100.64610</td>\n",
       "    </tr>\n",
       "    <tr>\n",
       "      <th>239760</th>\n",
       "      <td>13.76777</td>\n",
       "      <td>100.65056</td>\n",
       "    </tr>\n",
       "    <tr>\n",
       "      <th>239761</th>\n",
       "      <td>13.77092</td>\n",
       "      <td>100.60772</td>\n",
       "    </tr>\n",
       "  </tbody>\n",
       "</table>\n",
       "<p>209507 rows × 2 columns</p>\n",
       "</div>"
      ],
      "text/plain": [
       "           lat_y      lon_y\n",
       "0       13.65319  100.78381\n",
       "1       13.67083  100.67389\n",
       "2       13.69173  100.67092\n",
       "3       13.71405  100.59269\n",
       "4       13.74763  100.59861\n",
       "...          ...        ...\n",
       "239757  13.77354  100.66722\n",
       "239758  13.76105  100.63039\n",
       "239759  13.76639  100.64610\n",
       "239760  13.76777  100.65056\n",
       "239761  13.77092  100.60772\n",
       "\n",
       "[209507 rows x 2 columns]"
      ]
     },
     "execution_count": 90,
     "metadata": {},
     "output_type": "execute_result"
    }
   ],
   "source": [
    "taxi_data_drop = taxi_data[taxi_data.columns[8:10]]\n",
    "taxi_data_drop"
   ]
  },
  {
   "cell_type": "code",
   "execution_count": 92,
   "metadata": {},
   "outputs": [
    {
     "data": {
      "image/png": "[encoded data removed]",
      "text/plain": [
       "<Figure size 432x288 with 1 Axes>"
      ]
     },
     "metadata": {
      "needs_background": "light"
     },
     "output_type": "display_data"
    }
   ],
   "source": [
    "from sklearn.cluster import KMeans \n",
    "K_clusters = range(1,15)\n",
    "kmeans = [KMeans(n_clusters=i) for i in K_clusters]\n",
    "Y_axis = taxi_data_drop[['lat_y']]\n",
    "X_axis = taxi_data_drop[['lon_y']]\n",
    "score = [kmeans[i].fit(Y_axis).score(Y_axis) for i in range(len(kmeans))]\n",
    "# Visualize\n",
    "plt.plot(K_clusters, score)\n",
    "plt.xlabel('Number of Clusters')\n",
    "plt.ylabel('Score')\n",
    "plt.title('Elbow Curve')\n",
    "plt.show()"
   ]
  },
  {
   "cell_type": "code",
   "execution_count": 109,
   "metadata": {},
   "outputs": [
    {
     "data": {
      "text/html": [
       "<div>\n",
       "<style scoped>\n",
       "    .dataframe tbody tr th:only-of-type {\n",
       "        vertical-align: middle;\n",
       "    }\n",
       "\n",
       "    .dataframe tbody tr th {\n",
       "        vertical-align: top;\n",
       "    }\n",
       "\n",
       "    .dataframe thead th {\n",
       "        text-align: right;\n",
       "    }\n",
       "</style>\n",
       "<table border=\"1\" class=\"dataframe\">\n",
       "  <thead>\n",
       "    <tr style=\"text-align: right;\">\n",
       "      <th></th>\n",
       "      <th>lat_x</th>\n",
       "      <th>lon_x</th>\n",
       "      <th>cluster_label</th>\n",
       "    </tr>\n",
       "  </thead>\n",
       "  <tbody>\n",
       "    <tr>\n",
       "      <th>0</th>\n",
       "      <td>13.64769</td>\n",
       "      <td>100.78991</td>\n",
       "      <td>8</td>\n",
       "    </tr>\n",
       "    <tr>\n",
       "      <th>1</th>\n",
       "      <td>13.64767</td>\n",
       "      <td>100.67939</td>\n",
       "      <td>2</td>\n",
       "    </tr>\n",
       "    <tr>\n",
       "      <th>2</th>\n",
       "      <td>13.65371</td>\n",
       "      <td>100.67874</td>\n",
       "      <td>2</td>\n",
       "    </tr>\n",
       "    <tr>\n",
       "      <th>3</th>\n",
       "      <td>13.68211</td>\n",
       "      <td>100.61034</td>\n",
       "      <td>2</td>\n",
       "    </tr>\n",
       "    <tr>\n",
       "      <th>4</th>\n",
       "      <td>13.74752</td>\n",
       "      <td>100.57965</td>\n",
       "      <td>1</td>\n",
       "    </tr>\n",
       "    <tr>\n",
       "      <th>5</th>\n",
       "      <td>13.87164</td>\n",
       "      <td>100.72170</td>\n",
       "      <td>6</td>\n",
       "    </tr>\n",
       "    <tr>\n",
       "      <th>6</th>\n",
       "      <td>13.89336</td>\n",
       "      <td>100.63122</td>\n",
       "      <td>6</td>\n",
       "    </tr>\n",
       "    <tr>\n",
       "      <th>7</th>\n",
       "      <td>13.89613</td>\n",
       "      <td>100.66283</td>\n",
       "      <td>6</td>\n",
       "    </tr>\n",
       "    <tr>\n",
       "      <th>9</th>\n",
       "      <td>13.69981</td>\n",
       "      <td>100.61654</td>\n",
       "      <td>1</td>\n",
       "    </tr>\n",
       "    <tr>\n",
       "      <th>10</th>\n",
       "      <td>13.73399</td>\n",
       "      <td>100.49075</td>\n",
       "      <td>4</td>\n",
       "    </tr>\n",
       "  </tbody>\n",
       "</table>\n",
       "</div>"
      ],
      "text/plain": [
       "       lat_x      lon_x  cluster_label\n",
       "0   13.64769  100.78991              8\n",
       "1   13.64767  100.67939              2\n",
       "2   13.65371  100.67874              2\n",
       "3   13.68211  100.61034              2\n",
       "4   13.74752  100.57965              1\n",
       "5   13.87164  100.72170              6\n",
       "6   13.89336  100.63122              6\n",
       "7   13.89613  100.66283              6\n",
       "9   13.69981  100.61654              1\n",
       "10  13.73399  100.49075              4"
      ]
     },
     "execution_count": 109,
     "metadata": {},
     "output_type": "execute_result"
    }
   ],
   "source": [
    "kmeans = KMeans(n_clusters = 10, init ='k-means++')\n",
    "kmeans.fit(taxi_data_drop[taxi_data_drop.columns[0:2]]) # Compute k-means clustering.\n",
    "taxi_data_drop['cluster_label'] = kmeans.fit_predict(taxi_data_drop[taxi_data_drop.columns[0:2]])\n",
    "centers_drop = kmeans.cluster_centers_ # Coordinates of cluster centers.\n",
    "labels_drop = kmeans.predict(taxi_data_drop[taxi_data_drop.columns[0:2]]) # Labels of each point\n",
    "taxi_data_pickup.head(10)"
   ]
  },
  {
   "cell_type": "code",
   "execution_count": 110,
   "metadata": {},
   "outputs": [
    {
     "data": {
      "text/plain": [
       "<matplotlib.collections.PathCollection at 0x19514136aa0>"
      ]
     },
     "execution_count": 110,
     "metadata": {},
     "output_type": "execute_result"
    },
    {
     "data": {
      "image/png": "[encoded data removed]",
      "text/plain": [
       "<Figure size 432x288 with 2 Axes>"
      ]
     },
     "metadata": {
      "needs_background": "light"
     },
     "output_type": "display_data"
    },
    {
     "data": {
      "image/png": "[encoded data removed]",
      "text/plain": [
       "<Figure size 432x288 with 2 Axes>"
      ]
     },
     "metadata": {
      "needs_background": "light"
     },
     "output_type": "display_data"
    }
   ],
   "source": [
    "taxi_data_pickup.plot.scatter(x = 'lat_x', y = 'lon_x', c=labels_pickup, s=50, cmap='viridis')\n",
    "plt.scatter(centers_pickup[:, 0], centers_pickup[:, 1], c='black', s=200, alpha=0.5)\n",
    "taxi_data_drop.plot.scatter(x = 'lat_y', y = 'lon_y', c=labels_drop, s=50, cmap='viridis')\n",
    "plt.scatter(centers_drop[:, 0], centers_drop[:, 1], c='black', s=200, alpha=0.5)"
   ]
  },
  {
   "cell_type": "markdown",
   "metadata": {},
   "source": [
    "This shows that taxis are situated nearby pickup spots however the routes of taxis are somewhat inefficient as in drop-location K means plot has alot of overlapping points"
   ]
  }
 ],
 "metadata": {
  "interpreter": {
   "hash": "6085f60695a82ba75b9b81b6db979e1e09468336f27b36c2810fac61c84eec91"
  },
  "kernelspec": {
   "display_name": "Python 3.10.2 ('venv': venv)",
   "language": "python",
   "name": "python3"
  },
  "language_info": {
   "codemirror_mode": {
    "name": "ipython",
    "version": 3
   },
   "file_extension": ".py",
   "mimetype": "text/x-python",
   "name": "python",
   "nbconvert_exporter": "python",
   "pygments_lexer": "ipython3",
   "version": "3.10.2"
  },
  "orig_nbformat": 4
 },
 "nbformat": 4,
 "nbformat_minor": 2
}
