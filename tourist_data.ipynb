{
 "cells": [
  {
   "cell_type": "code",
   "execution_count": 275,
   "metadata": {},
   "outputs": [],
   "source": [
    "import pandas as pd\n",
    "import numpy as np \n",
    "import matplotlib.pyplot as plt\n",
    "import seaborn as sns\n",
    "import datetime\n",
    "import warnings \n",
    "warnings.filterwarnings(\"ignore\")"
   ]
  },
  {
   "cell_type": "code",
   "execution_count": 276,
   "metadata": {},
   "outputs": [],
   "source": [
    "tourist_data = pd.read_csv('C:/Users/Javin/OneDrive/Desktop/lab-task/enriched_tourist_trajectory.csv') # enter your file address here"
   ]
  },
  {
   "cell_type": "code",
   "execution_count": 277,
   "metadata": {},
   "outputs": [
    {
     "data": {
      "text/html": [
       "<div>\n",
       "<style scoped>\n",
       "    .dataframe tbody tr th:only-of-type {\n",
       "        vertical-align: middle;\n",
       "    }\n",
       "\n",
       "    .dataframe tbody tr th {\n",
       "        vertical-align: top;\n",
       "    }\n",
       "\n",
       "    .dataframe thead th {\n",
       "        text-align: right;\n",
       "    }\n",
       "</style>\n",
       "<table border=\"1\" class=\"dataframe\">\n",
       "  <thead>\n",
       "    <tr style=\"text-align: right;\">\n",
       "      <th></th>\n",
       "      <th>VehicleID</th>\n",
       "      <th>trajectory_id</th>\n",
       "      <th>date_time_o</th>\n",
       "      <th>date_time_d</th>\n",
       "      <th>category_o</th>\n",
       "      <th>subcategory_o</th>\n",
       "      <th>category_d</th>\n",
       "      <th>subcategory_d</th>\n",
       "      <th>lat_o</th>\n",
       "      <th>lon_o</th>\n",
       "      <th>lat_d</th>\n",
       "      <th>lon_d</th>\n",
       "      <th>distance</th>\n",
       "      <th>time_used</th>\n",
       "      <th>tourist_type</th>\n",
       "      <th>trajectory_type</th>\n",
       "    </tr>\n",
       "  </thead>\n",
       "  <tbody>\n",
       "    <tr>\n",
       "      <th>0</th>\n",
       "      <td>6LurW0yL8xDb6eslP9L3U/VH62U</td>\n",
       "      <td>6LurW0yL8xDb6eslP9L3U/VH62U_trip_20190411202441</td>\n",
       "      <td>2019-04-11 20:24:41</td>\n",
       "      <td>2019-04-11 20:29:41</td>\n",
       "      <td>Accommodation</td>\n",
       "      <td>Hotel</td>\n",
       "      <td>NightClub/Bar</td>\n",
       "      <td>Karaoke Bar</td>\n",
       "      <td>13.66364</td>\n",
       "      <td>100.61409</td>\n",
       "      <td>13.66240</td>\n",
       "      <td>100.62025</td>\n",
       "      <td>682</td>\n",
       "      <td>5.00</td>\n",
       "      <td>High spending tourist</td>\n",
       "      <td>NightlifeTrip</td>\n",
       "    </tr>\n",
       "    <tr>\n",
       "      <th>1</th>\n",
       "      <td>OU+NtvniamKjJS7GdVebDYzVDqc</td>\n",
       "      <td>OU+NtvniamKjJS7GdVebDYzVDqc_trip_20190411131923</td>\n",
       "      <td>2019-04-11 13:19:23</td>\n",
       "      <td>2019-04-11 13:24:43</td>\n",
       "      <td>Accommodation</td>\n",
       "      <td>Hotel</td>\n",
       "      <td>Spa</td>\n",
       "      <td>Spa</td>\n",
       "      <td>13.66335</td>\n",
       "      <td>100.61517</td>\n",
       "      <td>13.66139</td>\n",
       "      <td>100.60623</td>\n",
       "      <td>1103</td>\n",
       "      <td>5.33</td>\n",
       "      <td>High spending tourist</td>\n",
       "      <td>SpaTrip</td>\n",
       "    </tr>\n",
       "    <tr>\n",
       "      <th>2</th>\n",
       "      <td>XCBitNTVEv/xoXEjSQJ6utsCtr4</td>\n",
       "      <td>XCBitNTVEv/xoXEjSQJ6utsCtr4_trip_20190411132134</td>\n",
       "      <td>2019-04-11 13:21:34</td>\n",
       "      <td>2019-04-11 13:37:34</td>\n",
       "      <td>Accommodation</td>\n",
       "      <td>Hotel</td>\n",
       "      <td>Spa</td>\n",
       "      <td>Spa</td>\n",
       "      <td>13.66348</td>\n",
       "      <td>100.61439</td>\n",
       "      <td>13.67699</td>\n",
       "      <td>100.60824</td>\n",
       "      <td>5809</td>\n",
       "      <td>16.00</td>\n",
       "      <td>High spending tourist</td>\n",
       "      <td>SpaTrip</td>\n",
       "    </tr>\n",
       "    <tr>\n",
       "      <th>3</th>\n",
       "      <td>pFPFjKr/IEz8P4UqUooLCaaxDRM</td>\n",
       "      <td>pFPFjKr/IEz8P4UqUooLCaaxDRM_trip_20190411153107</td>\n",
       "      <td>2019-04-11 15:31:07</td>\n",
       "      <td>2019-04-11 15:39:07</td>\n",
       "      <td>Accommodation</td>\n",
       "      <td>Hotel</td>\n",
       "      <td>Restaurant</td>\n",
       "      <td>Thai Restaurant</td>\n",
       "      <td>13.66378</td>\n",
       "      <td>100.61318</td>\n",
       "      <td>13.65897</td>\n",
       "      <td>100.60102</td>\n",
       "      <td>1844</td>\n",
       "      <td>8.00</td>\n",
       "      <td>High spending tourist</td>\n",
       "      <td>FoodAndDrinkTrip</td>\n",
       "    </tr>\n",
       "    <tr>\n",
       "      <th>4</th>\n",
       "      <td>u2kp5kkoicvAyX1FC5S+L/+0/dY</td>\n",
       "      <td>u2kp5kkoicvAyX1FC5S+L/+0/dY_trip_20190411200322</td>\n",
       "      <td>2019-04-11 20:03:22</td>\n",
       "      <td>2019-04-11 20:16:18</td>\n",
       "      <td>Accommodation</td>\n",
       "      <td>Hotel</td>\n",
       "      <td>NightClub/Bar</td>\n",
       "      <td>Lounge</td>\n",
       "      <td>13.66310</td>\n",
       "      <td>100.61558</td>\n",
       "      <td>13.66840</td>\n",
       "      <td>100.63408</td>\n",
       "      <td>4259</td>\n",
       "      <td>12.93</td>\n",
       "      <td>High spending tourist</td>\n",
       "      <td>NightlifeTrip</td>\n",
       "    </tr>\n",
       "  </tbody>\n",
       "</table>\n",
       "</div>"
      ],
      "text/plain": [
       "                     VehicleID  \\\n",
       "0  6LurW0yL8xDb6eslP9L3U/VH62U   \n",
       "1  OU+NtvniamKjJS7GdVebDYzVDqc   \n",
       "2  XCBitNTVEv/xoXEjSQJ6utsCtr4   \n",
       "3  pFPFjKr/IEz8P4UqUooLCaaxDRM   \n",
       "4  u2kp5kkoicvAyX1FC5S+L/+0/dY   \n",
       "\n",
       "                                     trajectory_id          date_time_o  \\\n",
       "0  6LurW0yL8xDb6eslP9L3U/VH62U_trip_20190411202441  2019-04-11 20:24:41   \n",
       "1  OU+NtvniamKjJS7GdVebDYzVDqc_trip_20190411131923  2019-04-11 13:19:23   \n",
       "2  XCBitNTVEv/xoXEjSQJ6utsCtr4_trip_20190411132134  2019-04-11 13:21:34   \n",
       "3  pFPFjKr/IEz8P4UqUooLCaaxDRM_trip_20190411153107  2019-04-11 15:31:07   \n",
       "4  u2kp5kkoicvAyX1FC5S+L/+0/dY_trip_20190411200322  2019-04-11 20:03:22   \n",
       "\n",
       "           date_time_d     category_o subcategory_o     category_d  \\\n",
       "0  2019-04-11 20:29:41  Accommodation         Hotel  NightClub/Bar   \n",
       "1  2019-04-11 13:24:43  Accommodation         Hotel            Spa   \n",
       "2  2019-04-11 13:37:34  Accommodation         Hotel            Spa   \n",
       "3  2019-04-11 15:39:07  Accommodation         Hotel     Restaurant   \n",
       "4  2019-04-11 20:16:18  Accommodation         Hotel  NightClub/Bar   \n",
       "\n",
       "     subcategory_d     lat_o      lon_o     lat_d      lon_d  distance  \\\n",
       "0      Karaoke Bar  13.66364  100.61409  13.66240  100.62025       682   \n",
       "1              Spa  13.66335  100.61517  13.66139  100.60623      1103   \n",
       "2              Spa  13.66348  100.61439  13.67699  100.60824      5809   \n",
       "3  Thai Restaurant  13.66378  100.61318  13.65897  100.60102      1844   \n",
       "4           Lounge  13.66310  100.61558  13.66840  100.63408      4259   \n",
       "\n",
       "   time_used           tourist_type   trajectory_type  \n",
       "0       5.00  High spending tourist     NightlifeTrip  \n",
       "1       5.33  High spending tourist           SpaTrip  \n",
       "2      16.00  High spending tourist           SpaTrip  \n",
       "3       8.00  High spending tourist  FoodAndDrinkTrip  \n",
       "4      12.93  High spending tourist     NightlifeTrip  "
      ]
     },
     "execution_count": 277,
     "metadata": {},
     "output_type": "execute_result"
    }
   ],
   "source": [
    "tourist_data.head()"
   ]
  },
  {
   "cell_type": "code",
   "execution_count": 278,
   "metadata": {},
   "outputs": [
    {
     "data": {
      "text/html": [
       "<div>\n",
       "<style scoped>\n",
       "    .dataframe tbody tr th:only-of-type {\n",
       "        vertical-align: middle;\n",
       "    }\n",
       "\n",
       "    .dataframe tbody tr th {\n",
       "        vertical-align: top;\n",
       "    }\n",
       "\n",
       "    .dataframe thead th {\n",
       "        text-align: right;\n",
       "    }\n",
       "</style>\n",
       "<table border=\"1\" class=\"dataframe\">\n",
       "  <thead>\n",
       "    <tr style=\"text-align: right;\">\n",
       "      <th></th>\n",
       "      <th>VehicleID</th>\n",
       "      <th>trajectory_id</th>\n",
       "      <th>date_time_o</th>\n",
       "      <th>date_time_d</th>\n",
       "      <th>category_o</th>\n",
       "      <th>subcategory_o</th>\n",
       "      <th>category_d</th>\n",
       "      <th>subcategory_d</th>\n",
       "      <th>lat_o</th>\n",
       "      <th>lon_o</th>\n",
       "      <th>lat_d</th>\n",
       "      <th>lon_d</th>\n",
       "      <th>distance</th>\n",
       "      <th>time_used</th>\n",
       "      <th>tourist_type</th>\n",
       "      <th>trajectory_type</th>\n",
       "    </tr>\n",
       "  </thead>\n",
       "  <tbody>\n",
       "    <tr>\n",
       "      <th>33024</th>\n",
       "      <td>pIK42Fr5jzBmFyjny+Qp5M0amaQ</td>\n",
       "      <td>pIK42Fr5jzBmFyjny+Qp5M0amaQ_trip_20190417174454</td>\n",
       "      <td>2019-04-17 17:44:54</td>\n",
       "      <td>2019-04-17 17:56:55</td>\n",
       "      <td>Accommodation</td>\n",
       "      <td>Residential Building (Apartment / Condo)</td>\n",
       "      <td>Spa</td>\n",
       "      <td>Spa</td>\n",
       "      <td>13.72068</td>\n",
       "      <td>100.75131</td>\n",
       "      <td>13.72225</td>\n",
       "      <td>100.72910</td>\n",
       "      <td>3070</td>\n",
       "      <td>12.02</td>\n",
       "      <td>High spending tourist</td>\n",
       "      <td>SpaTrip</td>\n",
       "    </tr>\n",
       "    <tr>\n",
       "      <th>33025</th>\n",
       "      <td>UL3za2TYuY4nfS/gRX8sSbhw/Xs</td>\n",
       "      <td>UL3za2TYuY4nfS/gRX8sSbhw/Xs_trip_20190417185526</td>\n",
       "      <td>2019-04-17 18:55:26</td>\n",
       "      <td>2019-04-17 19:07:02</td>\n",
       "      <td>Accommodation</td>\n",
       "      <td>Residential Building (Apartment / Condo)</td>\n",
       "      <td>Restaurant</td>\n",
       "      <td>Korean Restaurant</td>\n",
       "      <td>13.84509</td>\n",
       "      <td>100.58338</td>\n",
       "      <td>13.83998</td>\n",
       "      <td>100.57480</td>\n",
       "      <td>1542</td>\n",
       "      <td>11.60</td>\n",
       "      <td>High spending tourist</td>\n",
       "      <td>FoodAndDrinkTrip</td>\n",
       "    </tr>\n",
       "    <tr>\n",
       "      <th>33026</th>\n",
       "      <td>/uLPd/8sedu4wRkR7+MdKxMcME4</td>\n",
       "      <td>/uLPd/8sedu4wRkR7+MdKxMcME4_trip_20190417163626</td>\n",
       "      <td>2019-04-17 16:36:26</td>\n",
       "      <td>2019-04-17 16:55:10</td>\n",
       "      <td>Accommodation</td>\n",
       "      <td>Hotel</td>\n",
       "      <td>Spa</td>\n",
       "      <td>Spa</td>\n",
       "      <td>13.52704</td>\n",
       "      <td>100.42049</td>\n",
       "      <td>13.64756</td>\n",
       "      <td>100.43121</td>\n",
       "      <td>13879</td>\n",
       "      <td>18.73</td>\n",
       "      <td>High spending tourist</td>\n",
       "      <td>SpaTrip</td>\n",
       "    </tr>\n",
       "    <tr>\n",
       "      <th>33027</th>\n",
       "      <td>O4oHnNQ7k0FKEGWjqCDpVkfbAZQ</td>\n",
       "      <td>O4oHnNQ7k0FKEGWjqCDpVkfbAZQ_trip_20190417181215</td>\n",
       "      <td>2019-04-17 18:12:15</td>\n",
       "      <td>2019-04-17 19:06:16</td>\n",
       "      <td>Accommodation</td>\n",
       "      <td>Hotel</td>\n",
       "      <td>Restaurant</td>\n",
       "      <td>Restaurant</td>\n",
       "      <td>13.77877</td>\n",
       "      <td>100.81404</td>\n",
       "      <td>13.85921</td>\n",
       "      <td>100.81598</td>\n",
       "      <td>24127</td>\n",
       "      <td>54.02</td>\n",
       "      <td>High spending tourist</td>\n",
       "      <td>FoodAndDrinkTrip</td>\n",
       "    </tr>\n",
       "    <tr>\n",
       "      <th>33028</th>\n",
       "      <td>xA5oQGr1nCyJLz7LpTWIZwfKQyc</td>\n",
       "      <td>xA5oQGr1nCyJLz7LpTWIZwfKQyc_trip_20190417155408</td>\n",
       "      <td>2019-04-17 15:54:08</td>\n",
       "      <td>2019-04-17 15:58:08</td>\n",
       "      <td>Accommodation</td>\n",
       "      <td>Hotel</td>\n",
       "      <td>Restaurant</td>\n",
       "      <td>Restaurant</td>\n",
       "      <td>13.93067</td>\n",
       "      <td>100.60017</td>\n",
       "      <td>13.92659</td>\n",
       "      <td>100.59520</td>\n",
       "      <td>872</td>\n",
       "      <td>4.00</td>\n",
       "      <td>High spending tourist</td>\n",
       "      <td>FoodAndDrinkTrip</td>\n",
       "    </tr>\n",
       "  </tbody>\n",
       "</table>\n",
       "</div>"
      ],
      "text/plain": [
       "                         VehicleID  \\\n",
       "33024  pIK42Fr5jzBmFyjny+Qp5M0amaQ   \n",
       "33025  UL3za2TYuY4nfS/gRX8sSbhw/Xs   \n",
       "33026  /uLPd/8sedu4wRkR7+MdKxMcME4   \n",
       "33027  O4oHnNQ7k0FKEGWjqCDpVkfbAZQ   \n",
       "33028  xA5oQGr1nCyJLz7LpTWIZwfKQyc   \n",
       "\n",
       "                                         trajectory_id          date_time_o  \\\n",
       "33024  pIK42Fr5jzBmFyjny+Qp5M0amaQ_trip_20190417174454  2019-04-17 17:44:54   \n",
       "33025  UL3za2TYuY4nfS/gRX8sSbhw/Xs_trip_20190417185526  2019-04-17 18:55:26   \n",
       "33026  /uLPd/8sedu4wRkR7+MdKxMcME4_trip_20190417163626  2019-04-17 16:36:26   \n",
       "33027  O4oHnNQ7k0FKEGWjqCDpVkfbAZQ_trip_20190417181215  2019-04-17 18:12:15   \n",
       "33028  xA5oQGr1nCyJLz7LpTWIZwfKQyc_trip_20190417155408  2019-04-17 15:54:08   \n",
       "\n",
       "               date_time_d     category_o  \\\n",
       "33024  2019-04-17 17:56:55  Accommodation   \n",
       "33025  2019-04-17 19:07:02  Accommodation   \n",
       "33026  2019-04-17 16:55:10  Accommodation   \n",
       "33027  2019-04-17 19:06:16  Accommodation   \n",
       "33028  2019-04-17 15:58:08  Accommodation   \n",
       "\n",
       "                                  subcategory_o  category_d  \\\n",
       "33024  Residential Building (Apartment / Condo)         Spa   \n",
       "33025  Residential Building (Apartment / Condo)  Restaurant   \n",
       "33026                                     Hotel         Spa   \n",
       "33027                                     Hotel  Restaurant   \n",
       "33028                                     Hotel  Restaurant   \n",
       "\n",
       "           subcategory_d     lat_o      lon_o     lat_d      lon_d  distance  \\\n",
       "33024                Spa  13.72068  100.75131  13.72225  100.72910      3070   \n",
       "33025  Korean Restaurant  13.84509  100.58338  13.83998  100.57480      1542   \n",
       "33026                Spa  13.52704  100.42049  13.64756  100.43121     13879   \n",
       "33027         Restaurant  13.77877  100.81404  13.85921  100.81598     24127   \n",
       "33028         Restaurant  13.93067  100.60017  13.92659  100.59520       872   \n",
       "\n",
       "       time_used           tourist_type   trajectory_type  \n",
       "33024      12.02  High spending tourist           SpaTrip  \n",
       "33025      11.60  High spending tourist  FoodAndDrinkTrip  \n",
       "33026      18.73  High spending tourist           SpaTrip  \n",
       "33027      54.02  High spending tourist  FoodAndDrinkTrip  \n",
       "33028       4.00  High spending tourist  FoodAndDrinkTrip  "
      ]
     },
     "execution_count": 278,
     "metadata": {},
     "output_type": "execute_result"
    }
   ],
   "source": [
    "tourist_data.tail()"
   ]
  },
  {
   "cell_type": "code",
   "execution_count": 279,
   "metadata": {},
   "outputs": [
    {
     "data": {
      "text/plain": [
       "(33029, 16)"
      ]
     },
     "execution_count": 279,
     "metadata": {},
     "output_type": "execute_result"
    }
   ],
   "source": [
    "tourist_data.shape"
   ]
  },
  {
   "cell_type": "code",
   "execution_count": 280,
   "metadata": {},
   "outputs": [
    {
     "data": {
      "text/plain": [
       "Index(['VehicleID', 'trajectory_id', 'date_time_o', 'date_time_d',\n",
       "       'category_o', 'subcategory_o', 'category_d', 'subcategory_d', 'lat_o',\n",
       "       'lon_o', 'lat_d', 'lon_d', 'distance', 'time_used', 'tourist_type',\n",
       "       'trajectory_type'],\n",
       "      dtype='object')"
      ]
     },
     "execution_count": 280,
     "metadata": {},
     "output_type": "execute_result"
    }
   ],
   "source": [
    "tourist_data.columns"
   ]
  },
  {
   "cell_type": "code",
   "execution_count": 281,
   "metadata": {},
   "outputs": [
    {
     "data": {
      "text/html": [
       "<div>\n",
       "<style scoped>\n",
       "    .dataframe tbody tr th:only-of-type {\n",
       "        vertical-align: middle;\n",
       "    }\n",
       "\n",
       "    .dataframe tbody tr th {\n",
       "        vertical-align: top;\n",
       "    }\n",
       "\n",
       "    .dataframe thead th {\n",
       "        text-align: right;\n",
       "    }\n",
       "</style>\n",
       "<table border=\"1\" class=\"dataframe\">\n",
       "  <thead>\n",
       "    <tr style=\"text-align: right;\">\n",
       "      <th></th>\n",
       "      <th>lat_o</th>\n",
       "      <th>lon_o</th>\n",
       "      <th>lat_d</th>\n",
       "      <th>lon_d</th>\n",
       "      <th>distance</th>\n",
       "      <th>time_used</th>\n",
       "    </tr>\n",
       "  </thead>\n",
       "  <tbody>\n",
       "    <tr>\n",
       "      <th>count</th>\n",
       "      <td>33029.000000</td>\n",
       "      <td>33029.00000</td>\n",
       "      <td>33029.000000</td>\n",
       "      <td>33029.000000</td>\n",
       "      <td>33029.000000</td>\n",
       "      <td>33029.000000</td>\n",
       "    </tr>\n",
       "    <tr>\n",
       "      <th>mean</th>\n",
       "      <td>13.758020</td>\n",
       "      <td>100.55886</td>\n",
       "      <td>13.757579</td>\n",
       "      <td>100.557162</td>\n",
       "      <td>5457.901632</td>\n",
       "      <td>23.855624</td>\n",
       "    </tr>\n",
       "    <tr>\n",
       "      <th>std</th>\n",
       "      <td>0.052059</td>\n",
       "      <td>0.05900</td>\n",
       "      <td>0.050423</td>\n",
       "      <td>0.060572</td>\n",
       "      <td>10735.314645</td>\n",
       "      <td>55.047319</td>\n",
       "    </tr>\n",
       "    <tr>\n",
       "      <th>min</th>\n",
       "      <td>13.527040</td>\n",
       "      <td>100.33311</td>\n",
       "      <td>13.596280</td>\n",
       "      <td>100.333460</td>\n",
       "      <td>501.000000</td>\n",
       "      <td>1.050000</td>\n",
       "    </tr>\n",
       "    <tr>\n",
       "      <th>25%</th>\n",
       "      <td>13.725500</td>\n",
       "      <td>100.51593</td>\n",
       "      <td>13.726400</td>\n",
       "      <td>100.516680</td>\n",
       "      <td>1819.000000</td>\n",
       "      <td>8.000000</td>\n",
       "    </tr>\n",
       "    <tr>\n",
       "      <th>50%</th>\n",
       "      <td>13.747820</td>\n",
       "      <td>100.55764</td>\n",
       "      <td>13.746120</td>\n",
       "      <td>100.554410</td>\n",
       "      <td>3423.000000</td>\n",
       "      <td>13.200000</td>\n",
       "    </tr>\n",
       "    <tr>\n",
       "      <th>75%</th>\n",
       "      <td>13.776680</td>\n",
       "      <td>100.59153</td>\n",
       "      <td>13.778910</td>\n",
       "      <td>100.586370</td>\n",
       "      <td>6513.000000</td>\n",
       "      <td>24.000000</td>\n",
       "    </tr>\n",
       "    <tr>\n",
       "      <th>max</th>\n",
       "      <td>13.948840</td>\n",
       "      <td>100.88266</td>\n",
       "      <td>13.949210</td>\n",
       "      <td>100.870710</td>\n",
       "      <td>997684.000000</td>\n",
       "      <td>1439.900000</td>\n",
       "    </tr>\n",
       "  </tbody>\n",
       "</table>\n",
       "</div>"
      ],
      "text/plain": [
       "              lat_o        lon_o         lat_d         lon_d       distance  \\\n",
       "count  33029.000000  33029.00000  33029.000000  33029.000000   33029.000000   \n",
       "mean      13.758020    100.55886     13.757579    100.557162    5457.901632   \n",
       "std        0.052059      0.05900      0.050423      0.060572   10735.314645   \n",
       "min       13.527040    100.33311     13.596280    100.333460     501.000000   \n",
       "25%       13.725500    100.51593     13.726400    100.516680    1819.000000   \n",
       "50%       13.747820    100.55764     13.746120    100.554410    3423.000000   \n",
       "75%       13.776680    100.59153     13.778910    100.586370    6513.000000   \n",
       "max       13.948840    100.88266     13.949210    100.870710  997684.000000   \n",
       "\n",
       "          time_used  \n",
       "count  33029.000000  \n",
       "mean      23.855624  \n",
       "std       55.047319  \n",
       "min        1.050000  \n",
       "25%        8.000000  \n",
       "50%       13.200000  \n",
       "75%       24.000000  \n",
       "max     1439.900000  "
      ]
     },
     "execution_count": 281,
     "metadata": {},
     "output_type": "execute_result"
    }
   ],
   "source": [
    "tourist_data.describe()"
   ]
  },
  {
   "cell_type": "code",
   "execution_count": 282,
   "metadata": {},
   "outputs": [
    {
     "data": {
      "text/plain": [
       "VehicleID          0\n",
       "trajectory_id      0\n",
       "date_time_o        0\n",
       "date_time_d        0\n",
       "category_o         0\n",
       "subcategory_o      0\n",
       "category_d         0\n",
       "subcategory_d      0\n",
       "lat_o              0\n",
       "lon_o              0\n",
       "lat_d              0\n",
       "lon_d              0\n",
       "distance           0\n",
       "time_used          0\n",
       "tourist_type       0\n",
       "trajectory_type    0\n",
       "dtype: int64"
      ]
     },
     "execution_count": 282,
     "metadata": {},
     "output_type": "execute_result"
    }
   ],
   "source": [
    "tourist_data.isnull().sum()"
   ]
  },
  {
   "cell_type": "code",
   "execution_count": 283,
   "metadata": {},
   "outputs": [
    {
     "data": {
      "text/plain": [
       "VehicleID           3273\n",
       "trajectory_id      32580\n",
       "date_time_o        31163\n",
       "date_time_d        31253\n",
       "category_o             1\n",
       "subcategory_o         12\n",
       "category_d             6\n",
       "subcategory_d        146\n",
       "lat_o              13170\n",
       "lon_o              14555\n",
       "lat_d              14074\n",
       "lon_d              15299\n",
       "distance           11586\n",
       "time_used           4408\n",
       "tourist_type           2\n",
       "trajectory_type        6\n",
       "dtype: int64"
      ]
     },
     "execution_count": 283,
     "metadata": {},
     "output_type": "execute_result"
    }
   ],
   "source": [
    "tourist_data.nunique()"
   ]
  },
  {
   "cell_type": "markdown",
   "metadata": {},
   "source": [
    "#### Assumptions:\n",
    "1. (Sub)Category_o gives info about place of stay of tourist\n",
    "2. (Sub)Category_o gives info about place where same tourist has travelled\n",
    "3. erroneous data have 1963 as year in date_time_o (index:2499,8779,491,2431,6897) was removed from dataset\n",
    "4. distance and time_used gives dist & time of tourist destination from place of stay"
   ]
  },
  {
   "cell_type": "code",
   "execution_count": 284,
   "metadata": {},
   "outputs": [],
   "source": [
    "# Converting datetime present in string to datetime format\n",
    "tourist_data['date_time_d'] = pd.to_datetime(tourist_data['date_time_d'], infer_datetime_format=True)\n",
    "tourist_data['date_time_o'] = pd.to_datetime(tourist_data['date_time_o'], infer_datetime_format=True)"
   ]
  },
  {
   "cell_type": "code",
   "execution_count": 285,
   "metadata": {},
   "outputs": [
    {
     "data": {
      "text/plain": [
       "array(['NightClub/Bar', 'Spa', 'Restaurant', 'Shopping Mall', 'Religious',\n",
       "       'Leisure'], dtype=object)"
      ]
     },
     "execution_count": 285,
     "metadata": {},
     "output_type": "execute_result"
    }
   ],
   "source": [
    "tourist_data['category_d'].unique()"
   ]
  },
  {
   "cell_type": "code",
   "execution_count": 286,
   "metadata": {},
   "outputs": [
    {
     "data": {
      "text/plain": [
       "array(['Hotel', 'Hostel', 'Bed & Breakfast',\n",
       "       'Residential Building (Apartment / Condo)', 'Inn', 'Apartment',\n",
       "       'Resort', 'inn', 'Homestay', 'Condo', 'Hotel Pool', 'Mansion'],\n",
       "      dtype=object)"
      ]
     },
     "execution_count": 286,
     "metadata": {},
     "output_type": "execute_result"
    }
   ],
   "source": [
    "tourist_data['subcategory_o'].unique()"
   ]
  },
  {
   "cell_type": "code",
   "execution_count": 287,
   "metadata": {},
   "outputs": [
    {
     "data": {
      "image/png": "[encoded data removed]",
      "text/plain": [
       "<Figure size 432x288 with 1 Axes>"
      ]
     },
     "metadata": {
      "needs_background": "light"
     },
     "output_type": "display_data"
    }
   ],
   "source": [
    "plt.Figure(figsize=(15,6))\n",
    "sns.countplot('category_d', data= tourist_data, palette='hls')\n",
    "plt.xticks(rotation=90)\n",
    "plt.show()"
   ]
  },
  {
   "cell_type": "code",
   "execution_count": 288,
   "metadata": {},
   "outputs": [
    {
     "data": {
      "image/png": "[encoded data removed]",
      "text/plain": [
       "<Figure size 432x288 with 1 Axes>"
      ]
     },
     "metadata": {
      "needs_background": "light"
     },
     "output_type": "display_data"
    }
   ],
   "source": [
    "plt.Figure(figsize=(15,6))\n",
    "sns.countplot('subcategory_o', data= tourist_data, palette='hls')\n",
    "plt.xticks(rotation=90)\n",
    "plt.show()"
   ]
  },
  {
   "cell_type": "code",
   "execution_count": 289,
   "metadata": {},
   "outputs": [
    {
     "data": {
      "text/plain": [
       "Hotel                                       24668\n",
       "Hostel                                       2841\n",
       "Residential Building (Apartment / Condo)     2763\n",
       "Resort                                        880\n",
       "Bed & Breakfast                               734\n",
       "Inn                                           515\n",
       "Apartment                                     484\n",
       "inn                                            86\n",
       "Homestay                                       20\n",
       "Condo                                          20\n",
       "Hotel Pool                                     14\n",
       "Mansion                                         4\n",
       "Name: subcategory_o, dtype: int64"
      ]
     },
     "execution_count": 289,
     "metadata": {},
     "output_type": "execute_result"
    }
   ],
   "source": [
    "tourist_data['subcategory_o'].value_counts()"
   ]
  },
  {
   "cell_type": "markdown",
   "metadata": {},
   "source": [
    "Removed trajectory type as I found it was exactly same/similar as category_d using lambda function to check if .str contains nightlifetrip where cateogry_d = nightclub & so on"
   ]
  },
  {
   "cell_type": "code",
   "execution_count": 290,
   "metadata": {},
   "outputs": [],
   "source": [
    "tourist_data = tourist_data.drop(['trajectory_type'], axis=1)"
   ]
  },
  {
   "cell_type": "code",
   "execution_count": 291,
   "metadata": {},
   "outputs": [
    {
     "data": {
      "image/png": "[encoded data removed]",
      "text/plain": [
       "<Figure size 432x288 with 1 Axes>"
      ]
     },
     "metadata": {
      "needs_background": "light"
     },
     "output_type": "display_data"
    }
   ],
   "source": [
    "plt.Figure(figsize=(15,6))\n",
    "sns.countplot('subcategory_o', hue='tourist_type', data=tourist_data, palette='hls')\n",
    "plt.xticks(rotation = 90)\n",
    "plt.show()"
   ]
  },
  {
   "cell_type": "code",
   "execution_count": 292,
   "metadata": {},
   "outputs": [
    {
     "data": {
      "image/png": "[encoded data removed]",
      "text/plain": [
       "<Figure size 432x288 with 1 Axes>"
      ]
     },
     "metadata": {
      "needs_background": "light"
     },
     "output_type": "display_data"
    }
   ],
   "source": [
    "plt.Figure(figsize=(15,6))\n",
    "sns.countplot('category_d', hue='tourist_type', data=tourist_data, palette='hls')\n",
    "plt.xticks(rotation = 90)\n",
    "plt.ylim(0,9000)\n",
    "plt.show()"
   ]
  },
  {
   "cell_type": "code",
   "execution_count": 293,
   "metadata": {},
   "outputs": [
    {
     "data": {
      "text/plain": [
       "<function matplotlib.pyplot.show(close=None, block=None)>"
      ]
     },
     "execution_count": 293,
     "metadata": {},
     "output_type": "execute_result"
    },
    {
     "data": {
      "image/png": "[encoded data removed]",
      "text/plain": [
       "<Figure size 432x288 with 1 Axes>"
      ]
     },
     "metadata": {
      "needs_background": "light"
     },
     "output_type": "display_data"
    }
   ],
   "source": [
    "from wordcloud import WordCloud, STOPWORDS\n",
    "wcloud_text = \" \".join(place for place in tourist_data.subcategory_d)\n",
    "wordcloud = WordCloud(collocations = False, background_color=\"white\").generate(wcloud_text)\n",
    "plt.imshow(wordcloud, interpolation='bilinear')\n",
    "plt.axis(\"off\")\n",
    "plt.show"
   ]
  },
  {
   "cell_type": "code",
   "execution_count": 294,
   "metadata": {},
   "outputs": [
    {
     "data": {
      "image/png": "[encoded data removed]",
      "text/plain": [
       "<Figure size 432x288 with 1 Axes>"
      ]
     },
     "metadata": {
      "needs_background": "light"
     },
     "output_type": "display_data"
    }
   ],
   "source": [
    "plt.scatter(x=tourist_data['lat_o'], y=tourist_data['lon_o'], color='green')\n",
    "plt.scatter(x=tourist_data['lat_d'], y=tourist_data['lon_d'], color='pink', alpha=0.2)\n",
    "plt.show()"
   ]
  },
  {
   "cell_type": "markdown",
   "metadata": {},
   "source": [
    "This shows that most tourists live nearby places where they (plan to) visit."
   ]
  },
  {
   "cell_type": "code",
   "execution_count": 296,
   "metadata": {},
   "outputs": [],
   "source": [
    "from sklearn import preprocessing\n",
    "label_encoder = preprocessing.LabelEncoder()"
   ]
  },
  {
   "cell_type": "code",
   "execution_count": 297,
   "metadata": {},
   "outputs": [
    {
     "data": {
      "text/html": [
       "<div>\n",
       "<style scoped>\n",
       "    .dataframe tbody tr th:only-of-type {\n",
       "        vertical-align: middle;\n",
       "    }\n",
       "\n",
       "    .dataframe tbody tr th {\n",
       "        vertical-align: top;\n",
       "    }\n",
       "\n",
       "    .dataframe thead th {\n",
       "        text-align: right;\n",
       "    }\n",
       "</style>\n",
       "<table border=\"1\" class=\"dataframe\">\n",
       "  <thead>\n",
       "    <tr style=\"text-align: right;\">\n",
       "      <th></th>\n",
       "      <th>subcategory_o</th>\n",
       "      <th>category_d</th>\n",
       "      <th>subcategory_d</th>\n",
       "      <th>lat_o</th>\n",
       "      <th>lon_o</th>\n",
       "      <th>lat_d</th>\n",
       "      <th>lon_d</th>\n",
       "      <th>distance</th>\n",
       "      <th>time_used</th>\n",
       "      <th>tourist_type</th>\n",
       "      <th>hour_o</th>\n",
       "      <th>hour_d</th>\n",
       "      <th>day_d</th>\n",
       "      <th>day_o</th>\n",
       "    </tr>\n",
       "  </thead>\n",
       "  <tbody>\n",
       "    <tr>\n",
       "      <th>0</th>\n",
       "      <td>Hotel</td>\n",
       "      <td>NightClub/Bar</td>\n",
       "      <td>Karaoke Bar</td>\n",
       "      <td>13.66364</td>\n",
       "      <td>100.61409</td>\n",
       "      <td>13.66240</td>\n",
       "      <td>100.62025</td>\n",
       "      <td>682</td>\n",
       "      <td>5.00</td>\n",
       "      <td>High spending tourist</td>\n",
       "      <td>20</td>\n",
       "      <td>20</td>\n",
       "      <td>Thursday</td>\n",
       "      <td>Thursday</td>\n",
       "    </tr>\n",
       "    <tr>\n",
       "      <th>1</th>\n",
       "      <td>Hotel</td>\n",
       "      <td>Spa</td>\n",
       "      <td>Spa</td>\n",
       "      <td>13.66335</td>\n",
       "      <td>100.61517</td>\n",
       "      <td>13.66139</td>\n",
       "      <td>100.60623</td>\n",
       "      <td>1103</td>\n",
       "      <td>5.33</td>\n",
       "      <td>High spending tourist</td>\n",
       "      <td>13</td>\n",
       "      <td>13</td>\n",
       "      <td>Thursday</td>\n",
       "      <td>Thursday</td>\n",
       "    </tr>\n",
       "    <tr>\n",
       "      <th>2</th>\n",
       "      <td>Hotel</td>\n",
       "      <td>Spa</td>\n",
       "      <td>Spa</td>\n",
       "      <td>13.66348</td>\n",
       "      <td>100.61439</td>\n",
       "      <td>13.67699</td>\n",
       "      <td>100.60824</td>\n",
       "      <td>5809</td>\n",
       "      <td>16.00</td>\n",
       "      <td>High spending tourist</td>\n",
       "      <td>13</td>\n",
       "      <td>13</td>\n",
       "      <td>Thursday</td>\n",
       "      <td>Thursday</td>\n",
       "    </tr>\n",
       "    <tr>\n",
       "      <th>3</th>\n",
       "      <td>Hotel</td>\n",
       "      <td>Restaurant</td>\n",
       "      <td>Thai Restaurant</td>\n",
       "      <td>13.66378</td>\n",
       "      <td>100.61318</td>\n",
       "      <td>13.65897</td>\n",
       "      <td>100.60102</td>\n",
       "      <td>1844</td>\n",
       "      <td>8.00</td>\n",
       "      <td>High spending tourist</td>\n",
       "      <td>15</td>\n",
       "      <td>15</td>\n",
       "      <td>Thursday</td>\n",
       "      <td>Thursday</td>\n",
       "    </tr>\n",
       "    <tr>\n",
       "      <th>4</th>\n",
       "      <td>Hotel</td>\n",
       "      <td>NightClub/Bar</td>\n",
       "      <td>Lounge</td>\n",
       "      <td>13.66310</td>\n",
       "      <td>100.61558</td>\n",
       "      <td>13.66840</td>\n",
       "      <td>100.63408</td>\n",
       "      <td>4259</td>\n",
       "      <td>12.93</td>\n",
       "      <td>High spending tourist</td>\n",
       "      <td>20</td>\n",
       "      <td>20</td>\n",
       "      <td>Thursday</td>\n",
       "      <td>Thursday</td>\n",
       "    </tr>\n",
       "    <tr>\n",
       "      <th>...</th>\n",
       "      <td>...</td>\n",
       "      <td>...</td>\n",
       "      <td>...</td>\n",
       "      <td>...</td>\n",
       "      <td>...</td>\n",
       "      <td>...</td>\n",
       "      <td>...</td>\n",
       "      <td>...</td>\n",
       "      <td>...</td>\n",
       "      <td>...</td>\n",
       "      <td>...</td>\n",
       "      <td>...</td>\n",
       "      <td>...</td>\n",
       "      <td>...</td>\n",
       "    </tr>\n",
       "    <tr>\n",
       "      <th>33024</th>\n",
       "      <td>Residential Building (Apartment / Condo)</td>\n",
       "      <td>Spa</td>\n",
       "      <td>Spa</td>\n",
       "      <td>13.72068</td>\n",
       "      <td>100.75131</td>\n",
       "      <td>13.72225</td>\n",
       "      <td>100.72910</td>\n",
       "      <td>3070</td>\n",
       "      <td>12.02</td>\n",
       "      <td>High spending tourist</td>\n",
       "      <td>17</td>\n",
       "      <td>17</td>\n",
       "      <td>Wednesday</td>\n",
       "      <td>Wednesday</td>\n",
       "    </tr>\n",
       "    <tr>\n",
       "      <th>33025</th>\n",
       "      <td>Residential Building (Apartment / Condo)</td>\n",
       "      <td>Restaurant</td>\n",
       "      <td>Korean Restaurant</td>\n",
       "      <td>13.84509</td>\n",
       "      <td>100.58338</td>\n",
       "      <td>13.83998</td>\n",
       "      <td>100.57480</td>\n",
       "      <td>1542</td>\n",
       "      <td>11.60</td>\n",
       "      <td>High spending tourist</td>\n",
       "      <td>18</td>\n",
       "      <td>19</td>\n",
       "      <td>Wednesday</td>\n",
       "      <td>Wednesday</td>\n",
       "    </tr>\n",
       "    <tr>\n",
       "      <th>33026</th>\n",
       "      <td>Hotel</td>\n",
       "      <td>Spa</td>\n",
       "      <td>Spa</td>\n",
       "      <td>13.52704</td>\n",
       "      <td>100.42049</td>\n",
       "      <td>13.64756</td>\n",
       "      <td>100.43121</td>\n",
       "      <td>13879</td>\n",
       "      <td>18.73</td>\n",
       "      <td>High spending tourist</td>\n",
       "      <td>16</td>\n",
       "      <td>16</td>\n",
       "      <td>Wednesday</td>\n",
       "      <td>Wednesday</td>\n",
       "    </tr>\n",
       "    <tr>\n",
       "      <th>33027</th>\n",
       "      <td>Hotel</td>\n",
       "      <td>Restaurant</td>\n",
       "      <td>Restaurant</td>\n",
       "      <td>13.77877</td>\n",
       "      <td>100.81404</td>\n",
       "      <td>13.85921</td>\n",
       "      <td>100.81598</td>\n",
       "      <td>24127</td>\n",
       "      <td>54.02</td>\n",
       "      <td>High spending tourist</td>\n",
       "      <td>18</td>\n",
       "      <td>19</td>\n",
       "      <td>Wednesday</td>\n",
       "      <td>Wednesday</td>\n",
       "    </tr>\n",
       "    <tr>\n",
       "      <th>33028</th>\n",
       "      <td>Hotel</td>\n",
       "      <td>Restaurant</td>\n",
       "      <td>Restaurant</td>\n",
       "      <td>13.93067</td>\n",
       "      <td>100.60017</td>\n",
       "      <td>13.92659</td>\n",
       "      <td>100.59520</td>\n",
       "      <td>872</td>\n",
       "      <td>4.00</td>\n",
       "      <td>High spending tourist</td>\n",
       "      <td>15</td>\n",
       "      <td>15</td>\n",
       "      <td>Wednesday</td>\n",
       "      <td>Wednesday</td>\n",
       "    </tr>\n",
       "  </tbody>\n",
       "</table>\n",
       "<p>33029 rows × 14 columns</p>\n",
       "</div>"
      ],
      "text/plain": [
       "                                  subcategory_o     category_d  \\\n",
       "0                                         Hotel  NightClub/Bar   \n",
       "1                                         Hotel            Spa   \n",
       "2                                         Hotel            Spa   \n",
       "3                                         Hotel     Restaurant   \n",
       "4                                         Hotel  NightClub/Bar   \n",
       "...                                         ...            ...   \n",
       "33024  Residential Building (Apartment / Condo)            Spa   \n",
       "33025  Residential Building (Apartment / Condo)     Restaurant   \n",
       "33026                                     Hotel            Spa   \n",
       "33027                                     Hotel     Restaurant   \n",
       "33028                                     Hotel     Restaurant   \n",
       "\n",
       "           subcategory_d     lat_o      lon_o     lat_d      lon_d  distance  \\\n",
       "0            Karaoke Bar  13.66364  100.61409  13.66240  100.62025       682   \n",
       "1                    Spa  13.66335  100.61517  13.66139  100.60623      1103   \n",
       "2                    Spa  13.66348  100.61439  13.67699  100.60824      5809   \n",
       "3        Thai Restaurant  13.66378  100.61318  13.65897  100.60102      1844   \n",
       "4                 Lounge  13.66310  100.61558  13.66840  100.63408      4259   \n",
       "...                  ...       ...        ...       ...        ...       ...   \n",
       "33024                Spa  13.72068  100.75131  13.72225  100.72910      3070   \n",
       "33025  Korean Restaurant  13.84509  100.58338  13.83998  100.57480      1542   \n",
       "33026                Spa  13.52704  100.42049  13.64756  100.43121     13879   \n",
       "33027         Restaurant  13.77877  100.81404  13.85921  100.81598     24127   \n",
       "33028         Restaurant  13.93067  100.60017  13.92659  100.59520       872   \n",
       "\n",
       "       time_used           tourist_type  hour_o  hour_d      day_d      day_o  \n",
       "0           5.00  High spending tourist      20      20   Thursday   Thursday  \n",
       "1           5.33  High spending tourist      13      13   Thursday   Thursday  \n",
       "2          16.00  High spending tourist      13      13   Thursday   Thursday  \n",
       "3           8.00  High spending tourist      15      15   Thursday   Thursday  \n",
       "4          12.93  High spending tourist      20      20   Thursday   Thursday  \n",
       "...          ...                    ...     ...     ...        ...        ...  \n",
       "33024      12.02  High spending tourist      17      17  Wednesday  Wednesday  \n",
       "33025      11.60  High spending tourist      18      19  Wednesday  Wednesday  \n",
       "33026      18.73  High spending tourist      16      16  Wednesday  Wednesday  \n",
       "33027      54.02  High spending tourist      18      19  Wednesday  Wednesday  \n",
       "33028       4.00  High spending tourist      15      15  Wednesday  Wednesday  \n",
       "\n",
       "[33029 rows x 14 columns]"
      ]
     },
     "execution_count": 297,
     "metadata": {},
     "output_type": "execute_result"
    }
   ],
   "source": [
    "df = tourist_data\n",
    "df['hour_o'] = pd.to_datetime(df['date_time_o']).dt.hour\n",
    "df['hour_d'] = pd.to_datetime(df['date_time_d']).dt.hour\n",
    "df['day_d'] = pd.to_datetime(df['date_time_d']).dt.day_name()\n",
    "df['day_o'] = pd.to_datetime(df['date_time_o']).dt.day_name()\n",
    "df = df.drop(['VehicleID','trajectory_id','category_o','date_time_o','date_time_d'], axis=1) #removing category_o as its same (accomadation) for all rows\n",
    "df"
   ]
  },
  {
   "cell_type": "code",
   "execution_count": 298,
   "metadata": {},
   "outputs": [
    {
     "data": {
      "image/png": "[encoded data removed]",
      "text/plain": [
       "<Figure size 432x288 with 1 Axes>"
      ]
     },
     "metadata": {
      "needs_background": "light"
     },
     "output_type": "display_data"
    }
   ],
   "source": [
    "plt.Figure(figsize=(30,30))\n",
    "sns.countplot('hour_d', hue='category_d', data=df, palette='hls')\n",
    "plt.xticks(rotation = 90)\n",
    "plt.show()"
   ]
  },
  {
   "cell_type": "code",
   "execution_count": 299,
   "metadata": {},
   "outputs": [
    {
     "data": {
      "image/png": "[encoded data removed]",
      "text/plain": [
       "<Figure size 432x288 with 1 Axes>"
      ]
     },
     "metadata": {
      "needs_background": "light"
     },
     "output_type": "display_data"
    }
   ],
   "source": [
    "plt.Figure(figsize=(30,30))\n",
    "sns.countplot('hour_d', hue='tourist_type', data=df, palette='hls')\n",
    "plt.xticks(rotation = 90)\n",
    "plt.show()"
   ]
  },
  {
   "cell_type": "code",
   "execution_count": 300,
   "metadata": {},
   "outputs": [],
   "source": [
    "tourist_data_1 = tourist_data[['subcategory_o', 'category_d', 'subcategory_d', 'tourist_type', 'hour_o', 'hour_d', 'day_d', 'day_o']]"
   ]
  },
  {
   "cell_type": "code",
   "execution_count": 301,
   "metadata": {},
   "outputs": [
    {
     "data": {
      "text/html": [
       "<div>\n",
       "<style scoped>\n",
       "    .dataframe tbody tr th:only-of-type {\n",
       "        vertical-align: middle;\n",
       "    }\n",
       "\n",
       "    .dataframe tbody tr th {\n",
       "        vertical-align: top;\n",
       "    }\n",
       "\n",
       "    .dataframe thead th {\n",
       "        text-align: right;\n",
       "    }\n",
       "</style>\n",
       "<table border=\"1\" class=\"dataframe\">\n",
       "  <thead>\n",
       "    <tr style=\"text-align: right;\">\n",
       "      <th></th>\n",
       "      <th>subcategory_o</th>\n",
       "      <th>category_d</th>\n",
       "      <th>subcategory_d</th>\n",
       "      <th>tourist_type</th>\n",
       "      <th>hour_o</th>\n",
       "      <th>hour_d</th>\n",
       "      <th>day_d</th>\n",
       "      <th>day_o</th>\n",
       "    </tr>\n",
       "  </thead>\n",
       "  <tbody>\n",
       "    <tr>\n",
       "      <th>0</th>\n",
       "      <td>5</td>\n",
       "      <td>1</td>\n",
       "      <td>75</td>\n",
       "      <td>1</td>\n",
       "      <td>20</td>\n",
       "      <td>20</td>\n",
       "      <td>4</td>\n",
       "      <td>4</td>\n",
       "    </tr>\n",
       "    <tr>\n",
       "      <th>1</th>\n",
       "      <td>5</td>\n",
       "      <td>5</td>\n",
       "      <td>124</td>\n",
       "      <td>1</td>\n",
       "      <td>13</td>\n",
       "      <td>13</td>\n",
       "      <td>4</td>\n",
       "      <td>4</td>\n",
       "    </tr>\n",
       "    <tr>\n",
       "      <th>2</th>\n",
       "      <td>5</td>\n",
       "      <td>5</td>\n",
       "      <td>124</td>\n",
       "      <td>1</td>\n",
       "      <td>13</td>\n",
       "      <td>13</td>\n",
       "      <td>4</td>\n",
       "      <td>4</td>\n",
       "    </tr>\n",
       "    <tr>\n",
       "      <th>3</th>\n",
       "      <td>5</td>\n",
       "      <td>3</td>\n",
       "      <td>137</td>\n",
       "      <td>1</td>\n",
       "      <td>15</td>\n",
       "      <td>15</td>\n",
       "      <td>4</td>\n",
       "      <td>4</td>\n",
       "    </tr>\n",
       "    <tr>\n",
       "      <th>4</th>\n",
       "      <td>5</td>\n",
       "      <td>1</td>\n",
       "      <td>78</td>\n",
       "      <td>1</td>\n",
       "      <td>20</td>\n",
       "      <td>20</td>\n",
       "      <td>4</td>\n",
       "      <td>4</td>\n",
       "    </tr>\n",
       "    <tr>\n",
       "      <th>...</th>\n",
       "      <td>...</td>\n",
       "      <td>...</td>\n",
       "      <td>...</td>\n",
       "      <td>...</td>\n",
       "      <td>...</td>\n",
       "      <td>...</td>\n",
       "      <td>...</td>\n",
       "      <td>...</td>\n",
       "    </tr>\n",
       "    <tr>\n",
       "      <th>33024</th>\n",
       "      <td>9</td>\n",
       "      <td>5</td>\n",
       "      <td>124</td>\n",
       "      <td>1</td>\n",
       "      <td>17</td>\n",
       "      <td>17</td>\n",
       "      <td>6</td>\n",
       "      <td>6</td>\n",
       "    </tr>\n",
       "    <tr>\n",
       "      <th>33025</th>\n",
       "      <td>9</td>\n",
       "      <td>3</td>\n",
       "      <td>76</td>\n",
       "      <td>1</td>\n",
       "      <td>18</td>\n",
       "      <td>19</td>\n",
       "      <td>6</td>\n",
       "      <td>6</td>\n",
       "    </tr>\n",
       "    <tr>\n",
       "      <th>33026</th>\n",
       "      <td>5</td>\n",
       "      <td>5</td>\n",
       "      <td>124</td>\n",
       "      <td>1</td>\n",
       "      <td>16</td>\n",
       "      <td>16</td>\n",
       "      <td>6</td>\n",
       "      <td>6</td>\n",
       "    </tr>\n",
       "    <tr>\n",
       "      <th>33027</th>\n",
       "      <td>5</td>\n",
       "      <td>3</td>\n",
       "      <td>111</td>\n",
       "      <td>1</td>\n",
       "      <td>18</td>\n",
       "      <td>19</td>\n",
       "      <td>6</td>\n",
       "      <td>6</td>\n",
       "    </tr>\n",
       "    <tr>\n",
       "      <th>33028</th>\n",
       "      <td>5</td>\n",
       "      <td>3</td>\n",
       "      <td>111</td>\n",
       "      <td>1</td>\n",
       "      <td>15</td>\n",
       "      <td>15</td>\n",
       "      <td>6</td>\n",
       "      <td>6</td>\n",
       "    </tr>\n",
       "  </tbody>\n",
       "</table>\n",
       "<p>33029 rows × 8 columns</p>\n",
       "</div>"
      ],
      "text/plain": [
       "       subcategory_o  category_d  subcategory_d  tourist_type  hour_o  hour_d  \\\n",
       "0                  5           1             75             1      20      20   \n",
       "1                  5           5            124             1      13      13   \n",
       "2                  5           5            124             1      13      13   \n",
       "3                  5           3            137             1      15      15   \n",
       "4                  5           1             78             1      20      20   \n",
       "...              ...         ...            ...           ...     ...     ...   \n",
       "33024              9           5            124             1      17      17   \n",
       "33025              9           3             76             1      18      19   \n",
       "33026              5           5            124             1      16      16   \n",
       "33027              5           3            111             1      18      19   \n",
       "33028              5           3            111             1      15      15   \n",
       "\n",
       "       day_d  day_o  \n",
       "0          4      4  \n",
       "1          4      4  \n",
       "2          4      4  \n",
       "3          4      4  \n",
       "4          4      4  \n",
       "...      ...    ...  \n",
       "33024      6      6  \n",
       "33025      6      6  \n",
       "33026      6      6  \n",
       "33027      6      6  \n",
       "33028      6      6  \n",
       "\n",
       "[33029 rows x 8 columns]"
      ]
     },
     "execution_count": 301,
     "metadata": {},
     "output_type": "execute_result"
    }
   ],
   "source": [
    "tourist_data_1.loc[:,:] = tourist_data_1.loc[:,:].apply(label_encoder.fit_transform)\n",
    "tourist_data_1"
   ]
  },
  {
   "cell_type": "code",
   "execution_count": 302,
   "metadata": {},
   "outputs": [
    {
     "data": {
      "text/html": [
       "<div>\n",
       "<style scoped>\n",
       "    .dataframe tbody tr th:only-of-type {\n",
       "        vertical-align: middle;\n",
       "    }\n",
       "\n",
       "    .dataframe tbody tr th {\n",
       "        vertical-align: top;\n",
       "    }\n",
       "\n",
       "    .dataframe thead th {\n",
       "        text-align: right;\n",
       "    }\n",
       "</style>\n",
       "<table border=\"1\" class=\"dataframe\">\n",
       "  <thead>\n",
       "    <tr style=\"text-align: right;\">\n",
       "      <th></th>\n",
       "      <th>subcategory_o</th>\n",
       "      <th>category_d</th>\n",
       "      <th>subcategory_d</th>\n",
       "      <th>lat_o</th>\n",
       "      <th>lon_o</th>\n",
       "      <th>lat_d</th>\n",
       "      <th>lon_d</th>\n",
       "      <th>distance</th>\n",
       "      <th>time_used</th>\n",
       "      <th>tourist_type</th>\n",
       "      <th>hour_o</th>\n",
       "      <th>hour_d</th>\n",
       "      <th>day_d</th>\n",
       "      <th>day_o</th>\n",
       "    </tr>\n",
       "  </thead>\n",
       "  <tbody>\n",
       "    <tr>\n",
       "      <th>0</th>\n",
       "      <td>5</td>\n",
       "      <td>1</td>\n",
       "      <td>75</td>\n",
       "      <td>13.66364</td>\n",
       "      <td>100.61409</td>\n",
       "      <td>13.66240</td>\n",
       "      <td>100.62025</td>\n",
       "      <td>682</td>\n",
       "      <td>5.00</td>\n",
       "      <td>1</td>\n",
       "      <td>20</td>\n",
       "      <td>20</td>\n",
       "      <td>4</td>\n",
       "      <td>4</td>\n",
       "    </tr>\n",
       "    <tr>\n",
       "      <th>1</th>\n",
       "      <td>5</td>\n",
       "      <td>5</td>\n",
       "      <td>124</td>\n",
       "      <td>13.66335</td>\n",
       "      <td>100.61517</td>\n",
       "      <td>13.66139</td>\n",
       "      <td>100.60623</td>\n",
       "      <td>1103</td>\n",
       "      <td>5.33</td>\n",
       "      <td>1</td>\n",
       "      <td>13</td>\n",
       "      <td>13</td>\n",
       "      <td>4</td>\n",
       "      <td>4</td>\n",
       "    </tr>\n",
       "    <tr>\n",
       "      <th>2</th>\n",
       "      <td>5</td>\n",
       "      <td>5</td>\n",
       "      <td>124</td>\n",
       "      <td>13.66348</td>\n",
       "      <td>100.61439</td>\n",
       "      <td>13.67699</td>\n",
       "      <td>100.60824</td>\n",
       "      <td>5809</td>\n",
       "      <td>16.00</td>\n",
       "      <td>1</td>\n",
       "      <td>13</td>\n",
       "      <td>13</td>\n",
       "      <td>4</td>\n",
       "      <td>4</td>\n",
       "    </tr>\n",
       "    <tr>\n",
       "      <th>3</th>\n",
       "      <td>5</td>\n",
       "      <td>3</td>\n",
       "      <td>137</td>\n",
       "      <td>13.66378</td>\n",
       "      <td>100.61318</td>\n",
       "      <td>13.65897</td>\n",
       "      <td>100.60102</td>\n",
       "      <td>1844</td>\n",
       "      <td>8.00</td>\n",
       "      <td>1</td>\n",
       "      <td>15</td>\n",
       "      <td>15</td>\n",
       "      <td>4</td>\n",
       "      <td>4</td>\n",
       "    </tr>\n",
       "    <tr>\n",
       "      <th>4</th>\n",
       "      <td>5</td>\n",
       "      <td>1</td>\n",
       "      <td>78</td>\n",
       "      <td>13.66310</td>\n",
       "      <td>100.61558</td>\n",
       "      <td>13.66840</td>\n",
       "      <td>100.63408</td>\n",
       "      <td>4259</td>\n",
       "      <td>12.93</td>\n",
       "      <td>1</td>\n",
       "      <td>20</td>\n",
       "      <td>20</td>\n",
       "      <td>4</td>\n",
       "      <td>4</td>\n",
       "    </tr>\n",
       "    <tr>\n",
       "      <th>...</th>\n",
       "      <td>...</td>\n",
       "      <td>...</td>\n",
       "      <td>...</td>\n",
       "      <td>...</td>\n",
       "      <td>...</td>\n",
       "      <td>...</td>\n",
       "      <td>...</td>\n",
       "      <td>...</td>\n",
       "      <td>...</td>\n",
       "      <td>...</td>\n",
       "      <td>...</td>\n",
       "      <td>...</td>\n",
       "      <td>...</td>\n",
       "      <td>...</td>\n",
       "    </tr>\n",
       "    <tr>\n",
       "      <th>33024</th>\n",
       "      <td>9</td>\n",
       "      <td>5</td>\n",
       "      <td>124</td>\n",
       "      <td>13.72068</td>\n",
       "      <td>100.75131</td>\n",
       "      <td>13.72225</td>\n",
       "      <td>100.72910</td>\n",
       "      <td>3070</td>\n",
       "      <td>12.02</td>\n",
       "      <td>1</td>\n",
       "      <td>17</td>\n",
       "      <td>17</td>\n",
       "      <td>6</td>\n",
       "      <td>6</td>\n",
       "    </tr>\n",
       "    <tr>\n",
       "      <th>33025</th>\n",
       "      <td>9</td>\n",
       "      <td>3</td>\n",
       "      <td>76</td>\n",
       "      <td>13.84509</td>\n",
       "      <td>100.58338</td>\n",
       "      <td>13.83998</td>\n",
       "      <td>100.57480</td>\n",
       "      <td>1542</td>\n",
       "      <td>11.60</td>\n",
       "      <td>1</td>\n",
       "      <td>18</td>\n",
       "      <td>19</td>\n",
       "      <td>6</td>\n",
       "      <td>6</td>\n",
       "    </tr>\n",
       "    <tr>\n",
       "      <th>33026</th>\n",
       "      <td>5</td>\n",
       "      <td>5</td>\n",
       "      <td>124</td>\n",
       "      <td>13.52704</td>\n",
       "      <td>100.42049</td>\n",
       "      <td>13.64756</td>\n",
       "      <td>100.43121</td>\n",
       "      <td>13879</td>\n",
       "      <td>18.73</td>\n",
       "      <td>1</td>\n",
       "      <td>16</td>\n",
       "      <td>16</td>\n",
       "      <td>6</td>\n",
       "      <td>6</td>\n",
       "    </tr>\n",
       "    <tr>\n",
       "      <th>33027</th>\n",
       "      <td>5</td>\n",
       "      <td>3</td>\n",
       "      <td>111</td>\n",
       "      <td>13.77877</td>\n",
       "      <td>100.81404</td>\n",
       "      <td>13.85921</td>\n",
       "      <td>100.81598</td>\n",
       "      <td>24127</td>\n",
       "      <td>54.02</td>\n",
       "      <td>1</td>\n",
       "      <td>18</td>\n",
       "      <td>19</td>\n",
       "      <td>6</td>\n",
       "      <td>6</td>\n",
       "    </tr>\n",
       "    <tr>\n",
       "      <th>33028</th>\n",
       "      <td>5</td>\n",
       "      <td>3</td>\n",
       "      <td>111</td>\n",
       "      <td>13.93067</td>\n",
       "      <td>100.60017</td>\n",
       "      <td>13.92659</td>\n",
       "      <td>100.59520</td>\n",
       "      <td>872</td>\n",
       "      <td>4.00</td>\n",
       "      <td>1</td>\n",
       "      <td>15</td>\n",
       "      <td>15</td>\n",
       "      <td>6</td>\n",
       "      <td>6</td>\n",
       "    </tr>\n",
       "  </tbody>\n",
       "</table>\n",
       "<p>33029 rows × 14 columns</p>\n",
       "</div>"
      ],
      "text/plain": [
       "       subcategory_o  category_d  subcategory_d     lat_o      lon_o  \\\n",
       "0                  5           1             75  13.66364  100.61409   \n",
       "1                  5           5            124  13.66335  100.61517   \n",
       "2                  5           5            124  13.66348  100.61439   \n",
       "3                  5           3            137  13.66378  100.61318   \n",
       "4                  5           1             78  13.66310  100.61558   \n",
       "...              ...         ...            ...       ...        ...   \n",
       "33024              9           5            124  13.72068  100.75131   \n",
       "33025              9           3             76  13.84509  100.58338   \n",
       "33026              5           5            124  13.52704  100.42049   \n",
       "33027              5           3            111  13.77877  100.81404   \n",
       "33028              5           3            111  13.93067  100.60017   \n",
       "\n",
       "          lat_d      lon_d  distance  time_used  tourist_type  hour_o  hour_d  \\\n",
       "0      13.66240  100.62025       682       5.00             1      20      20   \n",
       "1      13.66139  100.60623      1103       5.33             1      13      13   \n",
       "2      13.67699  100.60824      5809      16.00             1      13      13   \n",
       "3      13.65897  100.60102      1844       8.00             1      15      15   \n",
       "4      13.66840  100.63408      4259      12.93             1      20      20   \n",
       "...         ...        ...       ...        ...           ...     ...     ...   \n",
       "33024  13.72225  100.72910      3070      12.02             1      17      17   \n",
       "33025  13.83998  100.57480      1542      11.60             1      18      19   \n",
       "33026  13.64756  100.43121     13879      18.73             1      16      16   \n",
       "33027  13.85921  100.81598     24127      54.02             1      18      19   \n",
       "33028  13.92659  100.59520       872       4.00             1      15      15   \n",
       "\n",
       "       day_d  day_o  \n",
       "0          4      4  \n",
       "1          4      4  \n",
       "2          4      4  \n",
       "3          4      4  \n",
       "4          4      4  \n",
       "...      ...    ...  \n",
       "33024      6      6  \n",
       "33025      6      6  \n",
       "33026      6      6  \n",
       "33027      6      6  \n",
       "33028      6      6  \n",
       "\n",
       "[33029 rows x 14 columns]"
      ]
     },
     "execution_count": 302,
     "metadata": {},
     "output_type": "execute_result"
    }
   ],
   "source": [
    "df[list(tourist_data_1.columns)] = tourist_data_1\n",
    "df = df.apply(pd.to_numeric, errors='coerce')\n",
    "df"
   ]
  },
  {
   "cell_type": "code",
   "execution_count": 303,
   "metadata": {},
   "outputs": [
    {
     "data": {
      "text/plain": [
       "<AxesSubplot:>"
      ]
     },
     "execution_count": 303,
     "metadata": {},
     "output_type": "execute_result"
    },
    {
     "data": {
      "image/png": "[encoded data removed]",
      "text/plain": [
       "<Figure size 1080x1080 with 1 Axes>"
      ]
     },
     "metadata": {
      "needs_background": "light"
     },
     "output_type": "display_data"
    }
   ],
   "source": [
    "corr = pd.DataFrame(df.corr()['tourist_type']).drop('tourist_type', axis=0)\n",
    "corr.plot(kind='barh',grid=True,figsize=(15,15))"
   ]
  },
  {
   "cell_type": "markdown",
   "metadata": {},
   "source": [
    "Correlation plot b/w variables and type of tourist (economic vs heavy spender)"
   ]
  },
  {
   "cell_type": "code",
   "execution_count": 304,
   "metadata": {},
   "outputs": [
    {
     "data": {
      "text/plain": [
       "['subcategory_o', 'lat_o', 'lon_o', 'lat_d', 'lon_d']"
      ]
     },
     "execution_count": 304,
     "metadata": {},
     "output_type": "execute_result"
    }
   ],
   "source": [
    "# Taking those variables as features which have statistically significant correlation \n",
    "feature_columns = []\n",
    "for x in corr.index:\n",
    "    if corr.loc[x].values > 0.05:\n",
    "        feature_columns.append(x)\n",
    "    elif corr.loc[x].values < -0.1:\n",
    "        feature_columns.append(x)\n",
    "\n",
    "feature_columns"
   ]
  },
  {
   "cell_type": "code",
   "execution_count": 305,
   "metadata": {},
   "outputs": [],
   "source": [
    "x = df[feature_columns]\n",
    "y = df['tourist_type']"
   ]
  },
  {
   "cell_type": "code",
   "execution_count": 306,
   "metadata": {},
   "outputs": [],
   "source": [
    "from sklearn.preprocessing import StandardScaler #for normalizing ddata\n",
    "scaler = StandardScaler()"
   ]
  },
  {
   "cell_type": "code",
   "execution_count": 307,
   "metadata": {},
   "outputs": [
    {
     "name": "stdout",
     "output_type": "stream",
     "text": [
      "(33029, 5)\n",
      "(33029,)\n"
     ]
    }
   ],
   "source": [
    "x = pd.DataFrame(scaler.fit_transform(x),columns=x.columns)\n",
    "print(x.shape)\n",
    "print(y.shape)"
   ]
  },
  {
   "cell_type": "markdown",
   "metadata": {},
   "source": [
    "Cross-validation can be implemented for test-train split for a more accurate comparison "
   ]
  },
  {
   "cell_type": "code",
   "execution_count": 308,
   "metadata": {},
   "outputs": [],
   "source": [
    "from sklearn.model_selection import train_test_split\n",
    "x_train, x_test, y_train, y_test = train_test_split(x, y, test_size=4, random_state=4)"
   ]
  },
  {
   "cell_type": "code",
   "execution_count": 309,
   "metadata": {},
   "outputs": [],
   "source": [
    "from sklearn.linear_model import LogisticRegression\n",
    "from sklearn.metrics import accuracy_score"
   ]
  },
  {
   "cell_type": "code",
   "execution_count": 310,
   "metadata": {},
   "outputs": [
    {
     "data": {
      "text/html": [
       "<style>#sk-container-id-2 {color: black;background-color: white;}#sk-container-id-2 pre{padding: 0;}#sk-container-id-2 div.sk-toggleable {background-color: white;}#sk-container-id-2 label.sk-toggleable__label {cursor: pointer;display: block;width: 100%;margin-bottom: 0;padding: 0.3em;box-sizing: border-box;text-align: center;}#sk-container-id-2 label.sk-toggleable__label-arrow:before {content: \"▸\";float: left;margin-right: 0.25em;color: #696969;}#sk-container-id-2 label.sk-toggleable__label-arrow:hover:before {color: black;}#sk-container-id-2 div.sk-estimator:hover label.sk-toggleable__label-arrow:before {color: black;}#sk-container-id-2 div.sk-toggleable__content {max-height: 0;max-width: 0;overflow: hidden;text-align: left;background-color: #f0f8ff;}#sk-container-id-2 div.sk-toggleable__content pre {margin: 0.2em;color: black;border-radius: 0.25em;background-color: #f0f8ff;}#sk-container-id-2 input.sk-toggleable__control:checked~div.sk-toggleable__content {max-height: 200px;max-width: 100%;overflow: auto;}#sk-container-id-2 input.sk-toggleable__control:checked~label.sk-toggleable__label-arrow:before {content: \"▾\";}#sk-container-id-2 div.sk-estimator input.sk-toggleable__control:checked~label.sk-toggleable__label {background-color: #d4ebff;}#sk-container-id-2 div.sk-label input.sk-toggleable__control:checked~label.sk-toggleable__label {background-color: #d4ebff;}#sk-container-id-2 input.sk-hidden--visually {border: 0;clip: rect(1px 1px 1px 1px);clip: rect(1px, 1px, 1px, 1px);height: 1px;margin: -1px;overflow: hidden;padding: 0;position: absolute;width: 1px;}#sk-container-id-2 div.sk-estimator {font-family: monospace;background-color: #f0f8ff;border: 1px dotted black;border-radius: 0.25em;box-sizing: border-box;margin-bottom: 0.5em;}#sk-container-id-2 div.sk-estimator:hover {background-color: #d4ebff;}#sk-container-id-2 div.sk-parallel-item::after {content: \"\";width: 100%;border-bottom: 1px solid gray;flex-grow: 1;}#sk-container-id-2 div.sk-label:hover label.sk-toggleable__label {background-color: #d4ebff;}#sk-container-id-2 div.sk-serial::before {content: \"\";position: absolute;border-left: 1px solid gray;box-sizing: border-box;top: 0;bottom: 0;left: 50%;z-index: 0;}#sk-container-id-2 div.sk-serial {display: flex;flex-direction: column;align-items: center;background-color: white;padding-right: 0.2em;padding-left: 0.2em;position: relative;}#sk-container-id-2 div.sk-item {position: relative;z-index: 1;}#sk-container-id-2 div.sk-parallel {display: flex;align-items: stretch;justify-content: center;background-color: white;position: relative;}#sk-container-id-2 div.sk-item::before, #sk-container-id-2 div.sk-parallel-item::before {content: \"\";position: absolute;border-left: 1px solid gray;box-sizing: border-box;top: 0;bottom: 0;left: 50%;z-index: -1;}#sk-container-id-2 div.sk-parallel-item {display: flex;flex-direction: column;z-index: 1;position: relative;background-color: white;}#sk-container-id-2 div.sk-parallel-item:first-child::after {align-self: flex-end;width: 50%;}#sk-container-id-2 div.sk-parallel-item:last-child::after {align-self: flex-start;width: 50%;}#sk-container-id-2 div.sk-parallel-item:only-child::after {width: 0;}#sk-container-id-2 div.sk-dashed-wrapped {border: 1px dashed gray;margin: 0 0.4em 0.5em 0.4em;box-sizing: border-box;padding-bottom: 0.4em;background-color: white;}#sk-container-id-2 div.sk-label label {font-family: monospace;font-weight: bold;display: inline-block;line-height: 1.2em;}#sk-container-id-2 div.sk-label-container {text-align: center;}#sk-container-id-2 div.sk-container {/* jupyter's `normalize.less` sets `[hidden] { display: none; }` but bootstrap.min.css set `[hidden] { display: none !important; }` so we also need the `!important` here to be able to override the default hidden behavior on the sphinx rendered scikit-learn.org. See: https://github.com/scikit-learn/scikit-learn/issues/21755 */display: inline-block !important;position: relative;}#sk-container-id-2 div.sk-text-repr-fallback {display: none;}</style><div id=\"sk-container-id-2\" class=\"sk-top-container\"><div class=\"sk-text-repr-fallback\"><pre>LogisticRegression()</pre><b>In a Jupyter environment, please rerun this cell to show the HTML representation or trust the notebook. <br />On GitHub, the HTML representation is unable to render, please try loading this page with nbviewer.org.</b></div><div class=\"sk-container\" hidden><div class=\"sk-item\"><div class=\"sk-estimator sk-toggleable\"><input class=\"sk-toggleable__control sk-hidden--visually\" id=\"sk-estimator-id-2\" type=\"checkbox\" checked><label for=\"sk-estimator-id-2\" class=\"sk-toggleable__label sk-toggleable__label-arrow\">LogisticRegression</label><div class=\"sk-toggleable__content\"><pre>LogisticRegression()</pre></div></div></div></div></div>"
      ],
      "text/plain": [
       "LogisticRegression()"
      ]
     },
     "execution_count": 310,
     "metadata": {},
     "output_type": "execute_result"
    }
   ],
   "source": [
    "lr = LogisticRegression()\n",
    "lr.fit(x_train,y_train)"
   ]
  },
  {
   "cell_type": "code",
   "execution_count": 311,
   "metadata": {},
   "outputs": [],
   "source": [
    "lr_pred= lr.predict(x_test)"
   ]
  },
  {
   "cell_type": "code",
   "execution_count": 312,
   "metadata": {},
   "outputs": [
    {
     "name": "stdout",
     "output_type": "stream",
     "text": [
      "Training Accuracy : 0.8813020439061318\n",
      "Testing Accuracy : 1.0\n",
      "Logistic Regression Accuracy Score: 1.0\n"
     ]
    }
   ],
   "source": [
    "print(\"Training Accuracy :\", lr.score(x_train, y_train))\n",
    "print(\"Testing Accuracy :\", lr.score(x_test, y_test))\n",
    "print('Logistic Regression Accuracy Score:', accuracy_score(lr_pred,y_test))"
   ]
  },
  {
   "cell_type": "code",
   "execution_count": 313,
   "metadata": {},
   "outputs": [],
   "source": [
    "from sklearn.ensemble import RandomForestClassifier\n",
    "rf = RandomForestClassifier()"
   ]
  },
  {
   "cell_type": "code",
   "execution_count": 314,
   "metadata": {},
   "outputs": [
    {
     "name": "stdout",
     "output_type": "stream",
     "text": [
      "Training Accuracy : 1.0\n",
      "Testing Accuracy : 1.0\n",
      "Random forest Accuracy Score: 1.0\n"
     ]
    }
   ],
   "source": [
    "rf.fit(x_train,y_train)\n",
    "rf_pred = rf.predict(x_test)\n",
    "print(\"Training Accuracy :\", rf.score(x_train, y_train))\n",
    "print(\"Testing Accuracy :\", rf.score(x_test, y_test))\n",
    "print('Random forest Accuracy Score:', rf.score(x_test,y_test))"
   ]
  },
  {
   "cell_type": "code",
   "execution_count": 315,
   "metadata": {},
   "outputs": [],
   "source": [
    "from xgboost import XGBClassifier\n",
    "xgb = XGBClassifier()"
   ]
  },
  {
   "cell_type": "code",
   "execution_count": 316,
   "metadata": {},
   "outputs": [
    {
     "name": "stdout",
     "output_type": "stream",
     "text": [
      "Training Accuracy : 1.0\n",
      "Testing Accuracy : 1.0\n",
      "xgb Accuracy Score: 1.0\n"
     ]
    }
   ],
   "source": [
    "xgb.fit(x_train, y_train)\n",
    "xgb_pred = xgb.predict(x_test)\n",
    "print(\"Training Accuracy :\", xgb.score(x_train, y_train))\n",
    "print(\"Testing Accuracy :\", xgb.score(x_test, y_test))\n",
    "print('xgb Accuracy Score:', accuracy_score(xgb_pred,y_test))"
   ]
  },
  {
   "cell_type": "code",
   "execution_count": 317,
   "metadata": {},
   "outputs": [],
   "source": [
    "from sklearn.tree import DecisionTreeClassifier\n",
    "dt = DecisionTreeClassifier()"
   ]
  },
  {
   "cell_type": "code",
   "execution_count": 318,
   "metadata": {},
   "outputs": [],
   "source": [
    "dt.fit(x_train,y_train)\n",
    "dt_pred = dt.predict(x_test)"
   ]
  },
  {
   "cell_type": "code",
   "execution_count": 319,
   "metadata": {},
   "outputs": [
    {
     "name": "stdout",
     "output_type": "stream",
     "text": [
      "Training Accuracy : 1.0\n",
      "Testing Accuracy : 1.0\n",
      "decision tree Accuracy Score: 1.0\n"
     ]
    }
   ],
   "source": [
    "print(\"Training Accuracy :\", dt.score(x_train, y_train))\n",
    "print(\"Testing Accuracy :\", dt.score(x_test, y_test))\n",
    "print('decision tree Accuracy Score:', accuracy_score(dt_pred,y_test))"
   ]
  },
  {
   "cell_type": "markdown",
   "metadata": {},
   "source": [
    "(Models have low bias but some overfiting as cross-validation implementation gives more variance)"
   ]
  }
 ],
 "metadata": {
  "interpreter": {
   "hash": "6085f60695a82ba75b9b81b6db979e1e09468336f27b36c2810fac61c84eec91"
  },
  "kernelspec": {
   "display_name": "Python 3.10.2 ('venv': venv)",
   "language": "python",
   "name": "python3"
  },
  "language_info": {
   "codemirror_mode": {
    "name": "ipython",
    "version": 3
   },
   "file_extension": ".py",
   "mimetype": "text/x-python",
   "name": "python",
   "nbconvert_exporter": "python",
   "pygments_lexer": "ipython3",
   "version": "3.10.2"
  },
  "orig_nbformat": 4
 },
 "nbformat": 4,
 "nbformat_minor": 2
}
